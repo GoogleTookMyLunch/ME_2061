{
 "cells": [
  {
   "cell_type": "markdown",
   "id": "0e2a6876",
   "metadata": {},
   "source": [
    "\n",
    "# Introduction to Linear Algebra\n",
    "\n",
    "*Fifth Edition, Gilbert Strang*\n",
    "\n",
    "\n",
    "## Table of Contents\n",
    "\n",
    "<span style=\"font-size: 1.25em\">1. [Preface](#Preface)</span>\n"
   ]
  },
  {
   "cell_type": "markdown",
   "id": "7ede0352",
   "metadata": {},
   "source": [
    "## Preface"
   ]
  },
  {
   "attachments": {
    "gilbert_strang_5th_ed_cover.jpeg": {
     "image/jpeg": "[encoded data removed]"
    }
   },
   "cell_type": "markdown",
   "id": "198b4157",
   "metadata": {},
   "source": [
    "This is the text for Gilbert Strang's video lectures on MIT's OpenCourseWare ([ocw.mit.edu][1] and also [YouTube][2]).  Another big change comes on this book's website [math.mit.edu/linearalgebra][3].  Another important reference is [web.mit.edu/18.06][4] which contains homeworks and exams (with solutions)for the current course as it is taught.\n",
    "\n",
    "The cover shows the **Four Fundamental Subspaces** - the row space and nullspace are on the left side, the column space and the nullspace of $\\mathbf{A}^{\\intercal}$ are on the right.\n",
    "\n",
    "![gilbert_strang_5th_ed_cover.jpeg](attachment:gilbert_strang_5th_ed_cover.jpeg)\n",
    "\n",
    "Those were named the Four Fundamental Subspaces in the first book, and they start from a matrix $\\mathbf{A}$.  Each row of $\\mathbf{A}$ is a vector in $n$-dimensional space.  When the matrix has $m$ rows, each column is a vector in $m$-dimensional space.  The crucial operation in linear algebra is to take ***linear combinations of column vectors***.  This is exactly the result of matrix-vector multiplication.  *$\\mathbf{Ax}$ is a combination of the columns of $\\mathbf{A}$*.\n",
    "\n",
    "When we take *all* combinations $\\mathbf{A}\\mathbf{x}$ of the column vectors, we get the *column space*.  If this space includes the vector $\\mathbf{b}$, then we can solve the equation $\\mathbf{Ax}=\\mathbf{b}$  In Section 1.3 there are two specific examlpes of this.\n",
    "\n",
    "### The start of the course\n",
    "\n",
    "The equation $\\mathbf{Ax} = \\mathbf{b}$ uses the language of linear algebra right away.  The vector $\\mathbf{Ax}$ is *a combination of the columns of $\\mathbf{A}$*.  The equation is asking for *a combination that produces $\\mathbf{b}$.*  The solution vector $\\mathbf{x}$ comes at three levels and they are all important:\n",
    "\n",
    "1. ***Direct solution*** to find $\\mathbf{x}$ by forward elimination and back substitution.\n",
    "\n",
    "2. ***Matrix solution*** using the inverse matrix: $\\mathbf{x} = \\mathbf{A}^{-1}\\mathbf{b}$ (if $\\mathbf{A}$ has an inverse).\n",
    "\n",
    "3. ***Particular solution*** (to $\\mathbf{Ay} = \\mathbf{b}$) plus ***nullspace solution*** (to $\\mathbf{Az} = \\mathbf{0}$).\n",
    "\n",
    "That vector space solution $x = y + z$ is shown on the cover of the book.  Direct elimination is the most frequently used algorithm in scientific computing.  The matrix $\\mathbf{A}$ becomes triangular - then solutions come quickly.  The speed of every new computer is tested on $\\mathbf{Ax} = \\mathbf{b}$: pure linear algebra.  But even a supercomputer doesn't want the inverse matrix: *too slow*.  Inverses give the simplest formula $\\mathbf{x} = \\mathbf{A}^{-1}\\mathbf{b}$ but not the top speed.  And everyone must know that determinants are even slower - there is no way a linear algebra course should begin with formulas for the determinant of an $n$ by $n$ matrix.  Those formulas have a place, but not first place.\n",
    "\n",
    "### Structure of the textbook\n",
    "\n",
    "This book moves gradually and steadily from *numbers* to *vectors* to *subspaces* - each level comes naturally and everyone will get it.  Here are 12 points about learning and teaching from this book:\n",
    "\n",
    "1. Chapter 1 starts with vectors and dot products.  Section 1.3 provides three independent vectors whose combinations fill all of 3-dimensional space, and three dependent vectors in a plane.\n",
    "<br>\n",
    "<br>\n",
    "2. Chapter 2 shows the row picture and the column picture of $\\mathbf{Ax} = \\mathbf{b}$  The heart of linear algebra is in that connection between rows and columns of $\\mathbf{A}$: the same numbers but very different pictures.  Then begins the algebra of matrices: an elemination matrix $\\mathbf{E}$ multiplies $\\mathbf{A}$ to produce a zero.  The goal is to capture the whole process - start with $\\mathbf{A}$, multiply by $\\mathbf{E}$'s, end with $\\mathbf{U}$.\n",
    "<br>\n",
    "<br>\n",
    "Elimination is seen in the beautiful form $\\mathbf{A} = \\mathbf{LU}$.  The ***lower triangle*** $\\mathbf{L}$ holds the forward elimination steps, and $\\mathbf{U}$ is the ***upper triangle*** for back substitution.\n",
    "<br>\n",
    "<br>\n",
    "3. Chapter 3 is linear algebra at the best level: ***subspaces***.  The column spaces contain all linear combinations of the columns.  The crucial question is: ***HOw many of those columns are needed?***  The answer tells us the dimension of the column space, and the key information about $\\mathbf{A}$.  We reach the Fundamental Theorem of Linear Algebra.\n",
    "<br>\n",
    "<br>\n",
    "4. With more equations than unknowns, it is almost sure that $\\mathbf{Ax} = \\mathbf{b}$ has no solution.  We cannot throw out every measurement that is close but not perfectly exact!  When we solve by ***least squares***, the key will be the matrix $\\mathbf{A}^{\\intercal}\\mathbf{A}$.  This wonderful matrix appears everywhere in applied mathematics, when $\\mathbf{A}$ is rectangular.\n",
    "<br>\n",
    "<br>\n",
    "5. ***Determinants*** give formulas for all that has come before - Cramer's Rule, inverse matrices, volumnes in $n$ dimensions.  We don't need those formulas to compute.  They slow us down.  But $\\det\\mathbf{A} = 0$ tells when a matrix is singular: this is the key to eigenvalues.\n",
    "<br>\n",
    "<br>\n",
    "6. ***Section 6.1 explains eigenvalues for 2 by 2 matrices***  The key equation is $\\mathbf{Ax} = \\lambda\\mathbf{x}$.  Eigenvalues and eigenvectors are an astonishing way to understand a square matrix.  They are not for $\\mathbf{Ax} = \\mathbf{b}$, they are for dynamic equations like ${du}/{dt} = \\mathbf{Ax}$.  The idea is always the same: *follow the eigenvectors*.  In those special directions, $\\mathbf{A}$ acts like a single number (the eigenvalue $\\lambda$) and the problem is one-dimensional.\n",
    "<br>\n",
    "<br>\n",
    "An essential highlight of Chapter 6 is ***diagonalizing a symmetric matrix***.  When all the eigenvalues are positive, the matrix is \"positive definite\".  This key idea connects the whole course - positive pivots and determinants and eignvalues and energy.\n",
    "<br>\n",
    "<br>\n",
    "7. Chapter 7 introduces ***singular values*** and ***singular vectors***.  They separate all matrices into simple pieces, ranked in order of their importance.\n",
    "<br>\n",
    "<br>\n",
    "8. Chapter 8 explains ***linear transformations***.\n",
    "<br>\n",
    "<br>\n",
    "9. Chapter 9 move from real numbers and vectors to complex vectors and matrices.  The Fourier matrix $\\mathbf{F}$ is the most important complex matrix we will ever see.  And the ***Fast Fourier Transfrom*** (multiplying quickly by $\\mathbf{F}$ and $\\mathbf{F}^{-1}$) is revolutionary.\n",
    "<br>\n",
    "<br>\n",
    "10. Chapter 10 is full of applications: graphs and networks, matrices in engineering, Markov matrices, linear programming, Fourier series, computer graphics, and linear algebra in cryptography.\n",
    "<br>\n",
    "<br>\n",
    "11. Chapter 11 introduces professional algorithms.\n",
    "<br>\n",
    "<br>\n",
    "12. Chapter 12 is on probability and statistics.\n",
    "\n",
    "### The variety of linear algebra\n",
    "\n",
    "Calculus is mostly about one special operation (the derivative) and its inverse (the integral). This is important but so many applications of mathematics are discrete opposed to continuous, digital rather than analog.\n",
    "\n",
    "[1]: <https://ocw.mit.edu/> \"MIT's OpenCourseWare\"\n",
    "[2]: <https://www.youtube.com/playlist?list=PL49CF3715CB9EF31D> \"Strang's YouTube\"\n",
    "[3]: <https://math.mit.edu/~gs/linearalgebra/> \"Book's website\"\n",
    "[4]: <https://web.mit.edu/18.06/www/> \"Homework Solutions\""
   ]
  }
 ],
 "metadata": {
  "kernelspec": {
   "display_name": "Python 3 (ipykernel)",
   "language": "python",
   "name": "python3"
  },
  "language_info": {
   "codemirror_mode": {
    "name": "ipython",
    "version": 3
   },
   "file_extension": ".py",
   "mimetype": "text/x-python",
   "name": "python",
   "nbconvert_exporter": "python",
   "pygments_lexer": "ipython3",
   "version": "3.11.4"
  }
 },
 "nbformat": 4,
 "nbformat_minor": 5
}
