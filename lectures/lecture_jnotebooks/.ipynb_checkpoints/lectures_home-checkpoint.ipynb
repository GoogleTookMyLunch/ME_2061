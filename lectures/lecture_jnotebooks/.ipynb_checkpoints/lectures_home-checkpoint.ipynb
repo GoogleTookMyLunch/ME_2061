{
 "cells": [
  {
   "cell_type": "markdown",
   "id": "17b79600-dd29-4f6f-884c-45c7f00532cc",
   "metadata": {},
   "source": [
    "\n",
    "# 2244 ME 2061 Reduced Order Modeling for Engineering\n",
    "\n",
    "---\n",
    "\n",
    "## Table of Contents\n",
    "\n",
    "<span style=\"font-size: 1.25em\">1. [Syllabus](#Syllabus)</span>\n",
    "\n",
    "<span style=\"font-size: 1.25em\">2. [20240111 lecture notes](#20240111-lecture-notes)</span>\n",
    "\n",
    "<span style=\"font-size: 1.25em\">3. [20240118 lecture notes](#20240118-lecture-notes)</span>"
   ]
  }
 ],
 "metadata": {
  "kernelspec": {
   "display_name": "Python 3 (ipykernel)",
   "language": "python",
   "name": "python3"
  },
  "language_info": {
   "codemirror_mode": {
    "name": "ipython",
    "version": 3
   },
   "file_extension": ".py",
   "mimetype": "text/x-python",
   "name": "python",
   "nbconvert_exporter": "python",
   "pygments_lexer": "ipython3",
   "version": "3.11.7"
  }
 },
 "nbformat": 4,
 "nbformat_minor": 5
}
