{
 "cells": [
  {
   "cell_type": "markdown",
   "id": "b3f598cf-1c43-49a2-9bc8-65708ab69bf5",
   "metadata": {},
   "source": [
    "\n",
    "# 2244 ME 2061 Reduced Order Modeling for Engineering\n",
    "\n",
    "---\n",
    "\n",
    "# Lectures\n",
    "\n",
    "## Table of contents\n",
    "\n",
    "<span style=\"font-size: 1.25em\">- [Syllabus](lectures_syllabus.ipynb#2244-ME-2061-Reduced-Order-Modeling-for-Engineering)</span>\n",
    "\n",
    "<span style=\"font-size: 1.25em\">- [Lecture 1](lectures_1.ipynb#2244-ME-2061-Reduced-Order-Modeling-for-Engineering)</span>\n",
    "\n",
    "<span style=\"font-size: 1.25em\">- [Lecture 2](lectures_2.ipynb#2244-ME-2061-Reduced-Order-Modeling-for-Engineering)</span>\n",
    "\n",
    "<!-- Create a table to hold the navigation buttons with a transparent background -->\n",
    "<table style=\"width: 100%; background-color: transparent;\">\n",
    "    <tr>\n",
    "        <!-- Create a left-aligned cell for the \"Previous\" button -->\n",
    "        <td style=\"text-align: left;\">\n",
    "            <!-- Create a link that leads to the \"Previous\" destination -->\n",
    "            <a href=\"home.ipynb#2244-ME-2061-Reduced-Order-Modeling-for-Engineering\">\n",
    "                <!-- Create a button labeled \"Previous\" with a left arrow icon -->\n",
    "                <button style=\"background-color: slategray; color: ghostwhite;\">&#8592; Previous</button>\n",
    "            </a>\n",
    "        </td>\n",
    "        <!-- Create a center-aligned cell for the \"Home\" button -->\n",
    "        <td style=\"text-align: center;\">\n",
    "            <!-- Create a link that leads to the \"Home\" destination -->\n",
    "            <a href=\"home.ipynb#2244-ME-2061-Reduced-Order-Modeling-for-Engineering\">\n",
    "                <!-- Create a button labeled \"Home\" with a home icon -->\n",
    "                <button style=\"background-color: slategray; color: ghostwhite;\"><i class=\"fa fa-home\"></i> Home</button>\n",
    "            </a>\n",
    "        </td>\n",
    "        <!-- Create a right-aligned cell for the \"Next\" button -->\n",
    "        <td style=\"text-align: right;\">\n",
    "            <!-- Create a link that leads to the \"Next\" destination -->\n",
    "            <a href=\"lectures_syllabus.ipynb#2244-ME-2061-Reduced-Order-Modeling-for-Engineering\">\n",
    "                <!-- Create a button labeled \"Next\" with a right arrow icon -->\n",
    "                <button style=\"background-color: slategray; color: ghostwhite;\">Next &#8594;</button>\n",
    "            </a>\n",
    "        </td>\n",
    "    </tr>\n",
    "</table>"
   ]
  },
  {
   "cell_type": "code",
   "execution_count": null,
   "id": "c97e1f6d-0cdf-40bc-9de3-707d987c3dc5",
   "metadata": {},
   "outputs": [],
   "source": []
  }
 ],
 "metadata": {
  "kernelspec": {
   "display_name": "Python 3 (ipykernel)",
   "language": "python",
   "name": "python3"
  },
  "language_info": {
   "codemirror_mode": {
    "name": "ipython",
    "version": 3
   },
   "file_extension": ".py",
   "mimetype": "text/x-python",
   "name": "python",
   "nbconvert_exporter": "python",
   "pygments_lexer": "ipython3",
   "version": "3.11.7"
  }
 },
 "nbformat": 4,
 "nbformat_minor": 5
}
