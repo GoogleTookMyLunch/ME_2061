{
 "cells": [
  {
   "cell_type": "markdown",
   "id": "efde1689",
   "metadata": {},
   "source": [
    "\n",
    "# ME 2061: Reduced Order Modeling\n",
    "\n",
    "## Homework 1\n",
    "\n",
    "*Author: Jacob Cunningham*\n",
    "\n",
    "*Source code: [GitHub Repo](https://github.com/GoogleTookMyLunch/ME_2061/tree/main/homework)*\n",
    "\n",
    "## Table of Contents\n",
    "\n",
    "<span style=\"font-size: 1.25em\">1. [Problem 1](#Problem-1)</span>\n",
    "\n",
    "<span style=\"font-size: 1.25em\">2. [Problem 2](#Problem-2)</span>\n",
    "\n",
    "<span style=\"font-size: 1.25em\">3. [Problem 3](#Problem-3)</span>\n",
    "\n",
    "<span style=\"font-size: 1.25em\">4. [Problem 4](#Problem-4)</span>\n",
    "\n",
    "### Notes\n",
    "\n",
    "Please consider viewing the source Juypter notebook located in the GitHub Repository (https://github.com/GoogleTookMyLunch/ME_2061/tree/main/homework); converting it to pdf and viewing it as such can lead to sub-optimal formatting.\n",
    "<br>\n",
    "<br>\n",
    "<div style=\"border:solid; margin: auto; text-align: center; padding: 1em\">\n",
    "<b>Final answers are formatted like this.</b>\n",
    "</div>"
   ]
  },
  {
   "cell_type": "markdown",
   "id": "9512490b",
   "metadata": {},
   "source": [
    "\n",
    "### Problem 1\n",
    "\n",
    "Show $(\\mathbf{Pv})^{T}((\\mathbf{I} - \\mathbf{P})\\mathbf{v}) = \\mathbf{0}$ is true if and only if $\\mathbf P$ is symmetric, that is, $\\mathbf{P}^{T} = \\mathbf{P}$."
   ]
  },
  {
   "cell_type": "markdown",
   "id": "7ef63618",
   "metadata": {},
   "source": [
    "\n",
    "#### Problem 1 calculations\n",
    "\n",
    "Expanding the expression and using the tranpose of a product property gives:\n",
    "\n",
    "$$\n",
    "\\begin{align}\n",
    "  0 & = (\\mathbf{Pv})^{T}((\\mathbf{I} - \\mathbf{P})\\mathbf{v}) \\\\\n",
    "  & = (\\mathbf{Pv})^{T}(\\mathbf{I}\\mathbf{v} - \\mathbf{P}\\mathbf{v}) \\\\\n",
    "  & = (\\mathbf{Pv})^{T}\\mathbf{I}\\mathbf{v} - (\\mathbf{Pv})^{T}\\mathbf{P}\\mathbf{v} \\\\\n",
    "  & = \\mathbf{v}^{T}\\mathbf{P}^{T}\\mathbf{v} - \\mathbf{v}^{T}\\mathbf{P}^{T}\\mathbf{P}\\mathbf{v}\n",
    "\\end{align}\n",
    "$$\n",
    "\n",
    "If $\\mathbf{P}$ is not symmetric then:\n",
    "\n",
    "$$\n",
    "\\mathbf{v}^{T}\\mathbf{P}^{T}\\mathbf{v} \\neq \\mathbf{v}^{T}\\mathbf{P}^{T}\\mathbf{P}\\mathbf{v}\n",
    "$$\n",
    "\n",
    "which violates the original equation; however, if $\\mathbf P$ is symmetric then:\n",
    "\n",
    "$$\n",
    "\\begin{align}\n",
    "  &\\mathbf{v}^{T}\\mathbf{P}\\mathbf{v} = \\mathbf{v}^{T}\\mathbf{P}\\mathbf{P}\\mathbf{v} \\\\\n",
    "  &\\mathbf{v}^{T}\\mathbf{P}\\mathbf{v} = \\mathbf{v}^{T}\\mathbf{P}^{2}\\mathbf{v}\n",
    "\\end{align}\n",
    "$$\n",
    "\n",
    "provided that $\\mathbf P$ is a projector then $\\mathbf{P}^{2} = \\mathbf P$ which leads to:\n",
    "\n",
    "$$\n",
    "\\begin{align}\n",
    "  &\\mathbf{v}^{T}\\mathbf{P}\\mathbf{v} = \\mathbf{v}^{T}\\mathbf{P}^{2}\\mathbf{v} \\\\\n",
    "  &\\mathbf{v}^{T}\\mathbf{P}\\mathbf{v} = \\mathbf{v}^{T}\\mathbf{P}\\mathbf{v}\n",
    "\\end{align}\n",
    "$$\n",
    "\n",
    "which is true.\n",
    "\n",
    "In summary:\n",
    "<br>\n",
    "<br>\n",
    "<div style=\"border:solid; margin: auto; text-align: center; padding: 1em\">\n",
    "$$\n",
    "\\begin{align}\n",
    "  0 & = (\\mathbf{Pv})^{T}((\\mathbf{I} - \\mathbf{P})\\mathbf{v}) \\\\\n",
    "  & = (\\mathbf{Pv})^{T}(\\mathbf{I}\\mathbf{v} - \\mathbf{P}\\mathbf{v}) \\\\\n",
    "  & = (\\mathbf{Pv})^{T}\\mathbf{I}\\mathbf{v} - (\\mathbf{Pv})^{T}\\mathbf{P}\\mathbf{v} \\\\\n",
    "  & = \\mathbf{v}^{T}\\mathbf{P}^{T}\\mathbf{v} - \\mathbf{v}^{T}\\mathbf{P}^{T}\\mathbf{P}\\mathbf{v} \\\\\n",
    "  & = \\mathbf{v}^{T}\\mathbf{P}\\mathbf{v} - \\mathbf{v}^{T}\\mathbf{P}\\mathbf{P}\\mathbf{v} \\\\\n",
    "  & = \\mathbf{v}^{T}\\mathbf{P}\\mathbf{v} - \\mathbf{v}^{T}\\mathbf{P}^{2}\\mathbf{v} \\\\\n",
    "  & = \\mathbf{v}^{T}\\mathbf{P}\\mathbf{v} - \\mathbf{v}^{T}\\mathbf{P}\\mathbf{v} \\\\\n",
    "  & = 0\n",
    "\\end{align}\n",
    "$$\n",
    "</div>"
   ]
  },
  {
   "cell_type": "markdown",
   "id": "b6f7c88b",
   "metadata": {},
   "source": [
    "\n",
    "### Problem 2\n"
   ]
  },
  {
   "cell_type": "markdown",
   "id": "25287695",
   "metadata": {},
   "source": [
    "\n",
    "#### Problem 2 calculations\n"
   ]
  },
  {
   "cell_type": "markdown",
   "id": "6c117505",
   "metadata": {},
   "source": [
    "\n",
    "### Problem 3\n"
   ]
  },
  {
   "cell_type": "markdown",
   "id": "7785c01f",
   "metadata": {},
   "source": [
    "\n",
    "#### Problem 3 calculations\n"
   ]
  },
  {
   "cell_type": "markdown",
   "id": "f375d7e4",
   "metadata": {},
   "source": [
    "\n",
    "### Problem 4\n"
   ]
  },
  {
   "cell_type": "markdown",
   "id": "67b71fe4",
   "metadata": {},
   "source": [
    "\n",
    "#### Problem 4 calculations\n"
   ]
  }
 ],
 "metadata": {
  "kernelspec": {
   "display_name": "Python 3 (ipykernel)",
   "language": "python",
   "name": "python3"
  },
  "language_info": {
   "codemirror_mode": {
    "name": "ipython",
    "version": 3
   },
   "file_extension": ".py",
   "mimetype": "text/x-python",
   "name": "python",
   "nbconvert_exporter": "python",
   "pygments_lexer": "ipython3",
   "version": "3.11.4"
  }
 },
 "nbformat": 4,
 "nbformat_minor": 5
}
