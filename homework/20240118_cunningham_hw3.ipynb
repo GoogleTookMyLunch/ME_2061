{
 "cells": [
  {
   "cell_type": "markdown",
   "id": "efde1689",
   "metadata": {},
   "source": [
    "\n",
    "# ME 2061: Reduced Order Modeling\n",
    "\n",
    "## Homework 3\n",
    "\n",
    "*Author: Jacob Cunningham*\n",
    "\n",
    "*Source code: [GitHub Repo](https://github.com/GoogleTookMyLunch/ME_2061/tree/main/homework)*\n",
    "\n",
    "## Table of Contents\n",
    "\n",
    "<span style=\"font-size: 1.25em\">1. [Problem 1](#Problem-1)</span>\n",
    "\n",
    "<span style=\"font-size: 1.25em\">2. [Problem 2](#Problem-2)</span>\n",
    "\n",
    "<span style=\"font-size: 1.25em\">3. [Problem 3](#Problem-3)</span>\n",
    "\n",
    "### Notes\n",
    "\n",
    "- **All mathematical calculations are performed by hand.** They are simply displayed using Markdown and $\\mathrm{\\LaTeX{}}$.  Python code, when used, is only used to check hand-calculations or when instructed to do so by the problem prompt.\n",
    "\n",
    "- Vectors are written in bold lower-case letters ($\\mathbf{v}$), matrices are written in bold upper-case letters ($\\mathbf{A}$), and scalers are written as italicized lower-case letters ($c$).\n",
    "<br>\n",
    "<div style=\"border:solid; margin: auto; text-align: center; padding: 1em\">\n",
    "<b>Final answers are formatted like this.</b>\n",
    "</div>"
   ]
  },
  {
   "cell_type": "code",
   "execution_count": 142,
   "id": "7b5f8b50-fd45-4fba-91b4-c524ec871582",
   "metadata": {
    "tags": []
   },
   "outputs": [
    {
     "data": {
      "application/javascript": [
       "// JavaScript magic command so I can reference equations across MD cells\n",
       "// Reference: https://stackoverflow.com/questions/41241984/equation-numbering-in-jupyter-notebooks\n",
       "// Run this cell as necessary to format equation numbering\n",
       "MathJax.Hub.Config({\n",
       "    TeX: { equationNumbers: { autoNumber: \"AMS\" } }\n",
       "});\n",
       "\n",
       "MathJax.Hub.Queue(\n",
       "  [\"resetEquationNumbers\", MathJax.InputJax.TeX],\n",
       "  [\"PreProcess\", MathJax.Hub],\n",
       "  [\"Reprocess\", MathJax.Hub]\n",
       ");\n"
      ],
      "text/plain": [
       "<IPython.core.display.Javascript object>"
      ]
     },
     "metadata": {},
     "output_type": "display_data"
    }
   ],
   "source": [
    "%%javascript \n",
    "// JavaScript magic command so I can reference equations across MD cells\n",
    "// Reference: https://stackoverflow.com/questions/41241984/equation-numbering-in-jupyter-notebooks\n",
    "// Run this cell as necessary to format equation numbering\n",
    "MathJax.Hub.Config({\n",
    "    TeX: { equationNumbers: { autoNumber: \"AMS\" } }\n",
    "});\n",
    "\n",
    "MathJax.Hub.Queue(\n",
    "  [\"resetEquationNumbers\", MathJax.InputJax.TeX],\n",
    "  [\"PreProcess\", MathJax.Hub],\n",
    "  [\"Reprocess\", MathJax.Hub]\n",
    ");"
   ]
  },
  {
   "cell_type": "markdown",
   "id": "773fa3fd-f405-4f7c-924a-704348058fbb",
   "metadata": {
    "tags": []
   },
   "source": [
    "\n",
    "### Problem 1\n",
    "\n",
    "Let $\\mathbf{f} = \\big[ f_{1}, f_{2}, \\ldots, f_n \\big]^{T}$ be a vector of size $n \\times 1$, and let $\\mathbf{U} = \\big[ \\mathbf{u}_{1}, \\mathbf{u}_{2}, \\ldots, \\mathbf{u}_r \\big]{T} \\in \\mathbb{R}^{n \\times r}$ where $r \\lt n$ and the columns of matrix $\\mathbf{U}$ are independent vectors. Let $\\mathbf{p} = \\big[ p_{1}, p_{2}, \\ldots, p_{r'} \\big]^{T}$ be the vector containing indices, where $f \\leq r' \\leq n$. Using MATLAB indexing, $\\mathbf{f}(\\mathbf{p}) = \\big[ f_{p_1}, f_{p_2}, \\ldots, f_{p_{r'}} \\big]^{T}$ selects a subset of elements from the vector $\\mathbf{f}$ corresponding to the indices in $\\mathbf{p}$.  Let $\\mathbf{P} = \\mathbf{I}(:, \\mathbf{p}) \\in \\mathbb{R}^{n \\times r'}$ denote the *indexing matrix* where $\\mathbf{I}$ is the identity matrix of size $n \\times n$. The matrix $\\mathbf{I}(:, \\mathbf{p})$ selects $r'$ columns of the identity matrix with index $\\mathbf{p}$.  It is easy to verify that $\\mathbf{P}^{T} \\mathbf{f} \\equiv \\mathbf{f}(\\mathbf{p})$ and $\\mathbf{P}^{T} \\mathbf{U} \\equiv \\mathbf{U}(\\mathbf{p}, :)$. In Lecture 3, we formulated projection ($\\mathcal{P}_p$), regression ($\\mathcal{P}_r$), interpolation ($\\mathcal{P}_i$) matrices as in the following:\n",
    "\n",
    "$$\n",
    "\\begin{equation*}\n",
    "  \\mathcal{P}_p = \\mathbf{U} \\big( \\mathbf{U}^{T} \\mathbf{U} \\big)^{-1} \\mathbf{U}^{T}\n",
    "  \\label{eq:projection}\n",
    "  \\tag{1}\n",
    "\\end{equation*}\n",
    "$$\n",
    "\n",
    "$$\n",
    "\\begin{equation*}\n",
    "  \\mathcal{P}_r = \\mathbf{U} \\big( \\mathbf{P}^{T} \\mathbf{U} \\big)^{\\dagger} \\mathbf{P}^{T}\n",
    "  \\label{eq:regression}\n",
    "  \\tag{2}\n",
    "\\end{equation*}\n",
    "$$\n",
    "\n",
    "$$\n",
    "\\begin{equation*}\n",
    "  \\mathcal{P}_i = \\mathbf{U} \\big( \\mathbf{P}^{T} \\mathbf{U} \\big)^{-1} \\mathbf{P}^{T}\n",
    "  \\label{eq:interpolation}\n",
    "  \\tag{3}\n",
    "\\end{equation*}\n",
    "$$\n",
    "\n",
    "where $( \\; )^{\\dagger}$ denotes the Moore-Penrose pseudoinverse of a matrix, i.e., $\\mathbf{A}^{\\dagger} = \\big( \\mathbf{A}^{T} \\mathbf{A} \\big)^{-1} \\mathbf{A}^{T}$."
   ]
  },
  {
   "cell_type": "markdown",
   "id": "7ef63618",
   "metadata": {},
   "source": [
    "\n",
    "#### Problem 1 calculations\n",
    "\n"
   ]
  },
  {
   "cell_type": "markdown",
   "id": "1be83ba1-2f81-4c98-9cce-5f67f7393f74",
   "metadata": {},
   "source": [
    "1\\. Show that if $\\mathbf{U}$ is an orthonormal matrix, $\\mathcal{P}_{p} = \\mathbf{U} \\mathbf{U}^{T}$.\n",
    "\n",
    "From Equation $(\\ref{eq:projection})$:\n",
    "\n",
    "$$\n",
    "\\begin{equation*}\n",
    "  \\mathcal{P}_p = \\mathbf{U} \\big( \\mathbf{U}^{T} \\mathbf{U} \\big)^{-1} \\mathbf{U}^{T}\n",
    "\\end{equation*}\n",
    "$$\n",
    "\n",
    "And from [Lecture 2](../lectures/lecture_pdfs/lecture_2.pdf), for orthonormal vectors:\n",
    "\n",
    "$$\n",
    "\\langle \\mathbf{u}_{i}, \\mathbf{u}_{j} \\rangle = \\mathbf{u}_{i}^{T} \\mathbf{u}_{j} = \\delta_{ij} \n",
    "\\begin{cases}\n",
    "  1 & i = j \\\\\n",
    "  0 & i \\neq j\n",
    "\\end{cases}\n",
    "$$\n",
    "<br>\n",
    "$$\n",
    "\\begin{equation*}\n",
    "  \\mathbf{U}^{T} \\mathbf{U} = \n",
    "  \\begin{bmatrix}\n",
    "    \\mathbf{u}_{1}^{T} \\\\\n",
    "    \\mathbf{u}_{2}^{T} \\\\\n",
    "    \\vdots \\\\\n",
    "    \\mathbf{u}_{r}^{T}\n",
    "  \\end{bmatrix}\n",
    "  \\begin{bmatrix}\n",
    "    \\mathbf{u}_{1} & \\mathbf{u}_{2} & \\ldots & \\mathbf{u}_{r} \n",
    "  \\end{bmatrix} = \n",
    "  \\begin{bmatrix}\n",
    "    \\mathbf{u}_{1}^{T} \\mathbf{u}_{1} & \\mathbf{u}_{1}^{T} \\mathbf{u}_{2} & \\ldots & \\mathbf{u}_{1}^{T} \\mathbf{u}_{r} \\\\\n",
    "    \\mathbf{u}_{2}^{T} \\mathbf{u}_{1} & \\mathbf{u}_{2}^{T} \\mathbf{u}_{2} & \\ldots & \\mathbf{u}_{2}^{T} \\mathbf{u}_{r} \\\\\n",
    "    \\vdots & \\vdots & \\ddots & \\vdots \\\\\n",
    "    \\mathbf{u}_{r}^{T} \\mathbf{u}_{1} & \\mathbf{u}_{r}^{T} \\mathbf{u}_{2} & \\ldots & \\mathbf{u}_{r}^{T} \\mathbf{u}_{r}\n",
    "  \\end{bmatrix} =\n",
    "  \\mathbf{I}\\rvert_{r \\times r}\n",
    "  \\label{eq:kronecker}\n",
    "  \\tag{4}\n",
    "\\end{equation*}\n",
    "$$\n",
    "\n",
    "Substituting Equation $(\\ref{eq:kronecker})$ into Equation $(\\ref{eq:projection})$ yields:\n",
    "\n",
    "$$\n",
    "\\begin{align*}\n",
    "  \\mathcal{P}_p & = \\mathbf{U} \\big( \\mathbf{U}^{T} \\mathbf{U} \\big)^{-1} \\mathbf{U}^{T} \\\\\n",
    "  & = \\mathbf{U} \\big( \\mathbf{I} \\big)^{-1} \\mathbf{U}^{T} \\\\\n",
    "  & = \\mathbf{U} \\mathbf{I} \\mathbf{U}^{T} \\\\\n",
    "  & = \\mathbf{U} \\mathbf{U}^{T}\n",
    "\\end{align*}\n",
    "$$\n",
    "<br>\n",
    "<div style=\"border:solid; margin: auto; text-align: center; padding: 1em\">\n",
    "$\\therefore$ if the columns of $\\mathbf{U}$ are orthonormal then $\\mathcal{P}_{p} = \\mathbf{U} \\mathbf{U}^{T}$\n",
    "</div>"
   ]
  },
  {
   "cell_type": "markdown",
   "id": "1f3e70a7-0121-4c56-9304-5a8d825cf7bf",
   "metadata": {},
   "source": [
    "2\\. Show that when $r' = r, \\mathcal{P}_{r} =\\mathcal{P}_{i}$.\n",
    "\n",
    "From Equations $(\\ref{eq:interpolation})$ and $(\\ref{eq:regression})$:\n",
    "\n",
    "$$\n",
    "\\begin{align*}\n",
    "  \\mathcal{P}_i & = \\mathbf{U} \\big( \\mathbf{P}^{T} \\mathbf{U} \\big)^{-1} \\mathbf{P}^{T} \\\\ \\\\\n",
    "  \\mathcal{P}_r & = \\mathbf{U} \\big( \\mathbf{P}^{T} \\mathbf{U} \\big)^{\\dagger} \\mathbf{P}^{T}\n",
    "\\end{align*}\n",
    "$$\n",
    "\n",
    "Since $\\mathbf{P}^{T} \\mathbf{U}$ is full rank and square when $r' = r$, from the conditions of the Moore-Penrose pseudoinverse:\n",
    "\n",
    "$$\n",
    "\\begin{align*}\n",
    "  \\big( \\mathbf{P}^{T} \\mathbf{U} \\big)^{\\dagger} & = \\big( \\mathbf{P}^{T} \\mathbf{U} \\big)^{-1}\n",
    "\\end{align*}\n",
    "$$\n",
    "\n",
    "Explicitly,\n",
    "\n",
    "$$\n",
    "\\begin{align*}\n",
    "  \\mathcal{P}_r & = \\mathbf{U} \\big( \\mathbf{P}^{T} \\mathbf{U} \\big)^{\\dagger} \\mathbf{P}^{T} \\\\\n",
    "  & = \\mathbf{U} \\big( \\mathbf{P}^{T} \\mathbf{U} \\big)^{-1} \\mathbf{P}^{T} \\\\\n",
    "  & = \\mathcal{P}_{i}\n",
    "\\end{align*}\n",
    "$$\n",
    "<br>\n",
    "<div style=\"border:solid; margin: auto; text-align: center; padding: 1em\">\n",
    "$\\therefore$ if $r' = r, \\mathcal{P}_{r} =\\mathcal{P}_{i}$\n",
    "</div>"
   ]
  },
  {
   "cell_type": "markdown",
   "id": "61320977-923d-4783-b995-2b5b78c902a5",
   "metadata": {},
   "source": [
    "3\\. Show that when $r' = n, \\mathcal{P}_{r} = \\mathcal{P}_{p}$\n",
    "\n",
    "From Equations $(\\ref{eq:projection})$ and $(\\ref{eq:regression})$:\n",
    "\n",
    "$$\n",
    "\\begin{align*}\n",
    "  \\mathcal{P}_p = \\mathbf{U} \\big( \\mathbf{U}^{T} \\mathbf{U} \\big)^{-1} \\mathbf{U}^{T}\n",
    "\\end{align*}\n",
    "$$\n",
    "\n",
    "$$\n",
    "\\begin{align*}\n",
    "  \\mathcal{P}_r = \\mathbf{U} \\big( \\mathbf{P}^{T} \\mathbf{U} \\big)^{\\dagger} \\mathbf{P}^{T}\n",
    "\\end{align*}\n",
    "$$\n",
    "\n",
    "$\\mathbf{P}$ is defined as:\n",
    "\n",
    "$$\n",
    "\\begin{align*}\n",
    "  \\mathbf{P} = \\mathbf{I} \\big(:, \\mathbf{p} \\big)\n",
    "\\end{align*}\n",
    "$$\n",
    "\n",
    "where $\\mathbf{p}$ is the integer index vector.  Since the integer index vector includes all the indices of 1 through and including $n$:\n",
    "\n",
    "$$\n",
    "\\begin{align*}\n",
    "  \\mathcal{P}_r & = \\mathbf{U} \\big( \\mathbf{P}^{T} \\mathbf{U} \\big)^{\\dagger} \\mathbf{P}^{T} \\\\\n",
    "  & = \\mathbf{U} \\big( \\mathbf{I}^{T} \\mathbf{U} \\big)^{\\dagger} \\mathbf{I}^{T} \\\\\n",
    "  & = \\mathbf{U} \\big( \\mathbf{I} \\mathbf{U} \\big)^{\\dagger} \\mathbf{I} \\\\\n",
    "  & = \\mathbf{U} \\big( \\mathbf{U} \\big)^{\\dagger}\n",
    "\\end{align*}\n",
    "$$\n",
    "\n",
    "From the definition of the Moore-Penrose pseudomatrix:\n",
    "\n",
    "$$\n",
    "\\begin{align*}\n",
    "  \\mathcal{P}_r & = \\mathbf{U} \\big( \\mathbf{U} \\big)^{\\dagger} \\\\\n",
    "  & = \\mathbf{U} \\big( \\mathbf{U}^{T} \\mathbf{U} \\big)^{-1} \\mathbf{U}^{T} \\\\\n",
    "  & = \\mathcal{P}_{p}\n",
    "\\end{align*}\n",
    "$$\n",
    "<br>\n",
    "<div style=\"border:solid; margin: auto; text-align: center; padding: 1em\">\n",
    "$\\therefore$ if $r' = n, \\mathcal{P}_{r} =\\mathcal{P}_{p}$\n",
    "</div>"
   ]
  },
  {
   "cell_type": "markdown",
   "id": "86715a13-b73b-4ae7-8883-51aec5aab11d",
   "metadata": {},
   "source": [
    "4\\. Show that $\\mathcal{P}_{p}$ is a projector.\n",
    "\n",
    "From [Lecture 2](../lectures/lecture_pdfs/lecture_2.pdf) the matrix $\\mathbf{P}_{n\\times n}$ is a projector if: \n",
    "\n",
    "$$\n",
    "\\begin{equation*}\n",
    "  \\mathbf{P}^{2} = \\mathbf{P}\n",
    "  \\label{eq:projector}\n",
    "  \\tag{5}\n",
    "\\end{equation*}\n",
    "$$\n",
    "\n",
    "Substituting Equation $(\\ref{eq:projection})$ into Equation $(\\ref{eq:projector})$ yields:\n",
    "\n",
    "$$\n",
    "\\begin{align*}\n",
    "  \\mathcal{P}_{p} & = \\mathcal{P}_{p}^{2} \\\\\n",
    "  & = \\big( \\mathbf{U} \\big( \\mathbf{U}^{T} \\mathbf{U} \\big)^{-1} \\mathbf{U}^{T} \\big)\n",
    "  \\big( \\mathbf{U} \\big( \\mathbf{U}^{T} \\mathbf{U} \\big)^{-1} \\mathbf{U}^{T} \\big) \\\\\n",
    "  & = \\mathbf{U} \\big( \\mathbf{U}^{T} \\mathbf{U} \\big)^{-1} \\mathbf{U}^{T}\n",
    "  \\mathbf{U} \\big( \\mathbf{U}^{T} \\mathbf{U} \\big)^{-1} \\mathbf{U}^{T} \\\\\n",
    "  & = \\mathbf{U} \\mathbf{I} \\big( \\mathbf{U}^{T} \\mathbf{U} \\big)^{-1} \\mathbf{U}^{T} \\\\\n",
    "  & = \\mathbf{U} \\big( \\mathbf{U}^{T} \\mathbf{U} \\big)^{-1} \\mathbf{U}^{T} \\\\\n",
    "  & = \\mathcal{P}_{p}\n",
    "\\end{align*}\n",
    "$$\n",
    "<br>\n",
    "<div style=\"border:solid; margin: auto; text-align: center; padding: 1em\">\n",
    "$\\therefore$ $\\mathcal{P}_{p}$ is a projector\n",
    "</div>"
   ]
  },
  {
   "cell_type": "markdown",
   "id": "e87351b9-ac4b-41cb-95f1-2b5b12486f47",
   "metadata": {},
   "source": [
    "5\\. Show that $\\mathcal{P}_{r}$ is a projector.\n",
    "\n",
    "Substituting Equation $(\\ref{eq:regression})$ into $(\\ref{eq:projector})$ yields:\n",
    "\n",
    "$$\n",
    "\\begin{align*}\n",
    "  \\mathcal{P}_{r} & = \\mathcal{P}_{r}^{2} \\\\\n",
    "  & = \\big( \\mathbf{U} \\big( \\mathbf{P}^{T} \\mathbf{U} \\big)^{\\dagger} \\mathbf{P}^{T} \\big)\n",
    "  \\big( \\mathbf{U} \\big( \\mathbf{P}^{T} \\mathbf{U} \\big)^{\\dagger} \\mathbf{P}^{T} \\big) \\\\\n",
    "  & = \\mathbf{U} \\big( \\mathbf{P}^{T} \\mathbf{U} \\big)^{\\dagger} \\mathbf{P}^{T} \n",
    "  \\mathbf{U} \\big( \\mathbf{P}^{T} \\mathbf{U} \\big)^{\\dagger} \\mathbf{P}^{T}\n",
    "\\end{align*}\n",
    "$$\n",
    "\n",
    "Since $\\mathbf{A}^{\\dagger} \\mathbf{A} \\mathbf{A}^{\\dagger} = \\mathbf{A}^{\\dagger}$, and letting $\\mathbf{A} = \\mathbf{P}^{T} \\mathbf{U}$ yields:\n",
    "\n",
    "$$\n",
    "\\begin{align*}\n",
    "  \\mathcal{P}_{r}^{2} & = \\mathbf{U} \\big( \\mathbf{P}^{T} \\mathbf{U} \\big)^{\\dagger} \\mathbf{P}^{T} \n",
    "  \\mathbf{U} \\big( \\mathbf{P}^{T} \\mathbf{U} \\big)^{\\dagger} \\mathbf{P}^{T} \\\\\n",
    "  & = \\mathbf{U} \\big( \\mathbf{P}^{T} \\mathbf{U} \\big)^{\\dagger} \\mathbf{P}^{T} \n",
    "  \\mathbf{U} \\big( \\mathbf{P}^{T} \\mathbf{U} \\big)^{\\dagger} \\big( \\mathbf{P}^{T} \\mathbf{U} \\big) \\big( \\mathbf{P}^{T} \\mathbf{U}\n",
    "  \\big)^{\\dagger} \\mathbf{P}^{T} \\\\\n",
    "  & = \\mathbf{U} \\big( \\mathbf{P}^{T} \\mathbf{U} \\big)^{\\dagger} \\; \\mathbf{I} \\; \\mathbf{I} \\; \\mathbf{P}^{T} \\\\\n",
    "  & = \\mathbf{U} \\big( \\mathbf{P}^{T} \\mathbf{U} \\big)^{\\dagger} \\mathbf{I} \\mathbf{P}^{T} \\\\\n",
    "  & = \\mathbf{U} \\big( \\mathbf{P}^{T} \\mathbf{U} \\big)^{\\dagger} \\mathbf{P}^{T} \\\\\n",
    "\\end{align*}\n",
    "$$\n",
    "<br>\n",
    "<div style=\"border:solid; margin: auto; text-align: center; padding: 1em\">\n",
    "    $\\therefore$ $\\mathcal{P}_{r}$ is a projector.\n",
    "</div>"
   ]
  },
  {
   "cell_type": "markdown",
   "id": "60905fd6-acb8-4270-9add-ed154eab4e8c",
   "metadata": {},
   "source": [
    "6\\. Show that $\\mathcal{P}_{i}$ is a projector.\n",
    "\n",
    "Substituting Equation $(\\ref{eq:interpolation})$ into Equation $(\\ref{eq:projector})$ yields:\n",
    "\n",
    "$$\n",
    "\\begin{align*}\n",
    "  \\mathcal{P}_{i}^{2} & = \\big( \\mathbf{U} \\big( \\mathbf{P}^{T} \\mathbf{U} \\big)^{-1} \\mathbf{P}^{T} \\big)\n",
    "  \\big( \\mathbf{U} \\big( \\mathbf{P}^{T} \\mathbf{U} \\big)^{-1} \\mathbf{P}^{T} \\big) \\\\\n",
    "  & = \\mathbf{U} \\big( \\mathbf{P}^{T} \\mathbf{U} \\big)^{-1} \\mathbf{P}^{T} \\mathbf{U} \\big( \\mathbf{P}^{T} \\mathbf{U} \\big)^{-1}\n",
    "  \\mathbf{P}^{T} \\\\\n",
    "  & = \\mathbf{U} \\big( \\mathbf{P}^{T} \\mathbf{U} \\big)^{-1} \\mathbf{I} \\mathbf{P}^{T} \\\\\n",
    "  & = \\mathbf{U} \\big( \\mathbf{P}^{T} \\mathbf{U} \\big)^{-1} \\mathbf{P}^{T} \\\\\n",
    "  & = \\mathcal{P}_{i}\n",
    "\\end{align*}\n",
    "$$\n",
    "<br>\n",
    "<div style=\"border:solid; margin: auto; text-align: center; padding: 1em\">\n",
    "    $\\therefore$ $\\mathcal{P}_{i}$ is a projector.\n",
    "</div>"
   ]
  },
  {
   "cell_type": "markdown",
   "id": "c180e3b8-e76c-43d2-9ed2-cc3a8afa418a",
   "metadata": {},
   "source": [
    "7\\. Show that $\\mathcal{P}_{p}$ is an orthogonal projector.\n",
    "\n",
    "From [Lecture 2](../lectures/lecture_pdfs/lecture_2.pdf) the matrix $\\mathbf{P}_{n\\times n}$ is an orthogonal projector if $\\mathbf{P}^{2} = \\mathbf{P}$ and $\\mathbf{P}^{T} = \\mathbf{P}$.\n",
    "\n",
    "And Equation $(\\ref{eq:projection})$ reduces to:\n",
    "\n",
    "$$\n",
    "\\begin{align*}\n",
    "  \\mathcal{P}_{p} & = \\mathcal{P}_{p}^{T} \\\\\n",
    "  & = \\big( \\mathbf{U} \\big( \\mathbf{U}^{T} \\mathbf{U} \\big)^{-1} \\mathbf{U}^{T} \\big)^{T} \\\\\n",
    "  & =  \\big( \\mathbf{U}^{T} \\big)^{T} \\big( \\mathbf{U}^{T} \\mathbf{U} \\big)^{-T} \\mathbf{U}^{T} \\\\\n",
    "  & =  \\mathbf{U} \\big( \\mathbf{U}^{T} \\mathbf{U} \\big)^{-T} \\mathbf{U}^{T} \\\\\n",
    "  & =  \\mathbf{U} \\big( \\big( \\mathbf{U}^{T} \\mathbf{U} \\big)^{T} \\big)^{-1} \\mathbf{U}^{T} \\\\\n",
    "  & =  \\mathbf{U} \\big( \\mathbf{U}^{T} \\big( \\mathbf{U}^{T} \\big)^{T} \\big)^{-1} \\mathbf{U}^{T} \\\\\n",
    "  & =  \\mathbf{U} \\big( \\mathbf{U}^{T} \\mathbf{U}^{T} \\big)^{-1} \\mathbf{U}^{T} \\\\\n",
    "  & = \\mathcal{P}_{p}\n",
    "\\end{align*}\n",
    "$$\n",
    "<br>\n",
    "<div style=\"border:solid; margin: auto; text-align: center; padding: 1em\">\n",
    "$\\therefore$ $\\mathcal{P}_{p}$ is an orthogonal projector\n",
    "</div>"
   ]
  },
  {
   "cell_type": "markdown",
   "id": "c49ec1c4-6a82-4b93-b1b8-b5a40e1af6a0",
   "metadata": {
    "tags": []
   },
   "source": [
    "8\\. Show that $\\mathcal{P}_{r}$ is an oblique projector when $r' \\lt n$.\n",
    "\n",
    "It was shown in 5\\. that $\\mathcal{P}_{r}$ is a projector.  If $\\mathcal{P}^{T} = \\mathcal{P}$ the projector is orthogonal; otherwise (i.e., $\\mathcal{P}^{T} \\neq \\mathcal{P}$) the projector is oblique.\n",
    "\n",
    "From Equation $(\\ref{eq:regression})$:\n",
    "\n",
    "$$\n",
    "\\begin{align*}\n",
    "  \\mathcal{P}_r^{T} & = \\big( \\mathbf{U} \\big( \\mathbf{P}^{T} \\mathbf{U} \\big)^{\\dagger} \\mathbf{P}^{T} \\big)^{T} \\\\\n",
    "  & = \\mathbf{P} \\big( \\big( \\mathbf{P}^{T} \\mathbf{U} \\big)^{\\dagger} \\big)^{T} \\mathbf{U}^{T}\n",
    "\\end{align*}\n",
    "$$\n",
    "\n",
    "##### Case 1: &emsp; $r' = n$\n",
    "\n",
    "It was proven in 3\\. that when $r' = n, \\mathcal{P}_{r} = \\mathcal{P}_{p}$ and it was proven in 7\\. that $\\mathcal{P}_{p}$ is an orthogonal projector. So the equation should reduce to $\\mathcal{P}_{r}^{T} = \\mathcal{P}_{p}$ when $r' = n$.\n",
    "\n",
    "$$\n",
    "\\begin{align*}\n",
    "  \\mathcal{P}_r^{T} & = \\mathbf{P} \\big( \\big( \\mathbf{P}^{T} \\mathbf{U} \\big)^{\\dagger} \\big)^{T} \\mathbf{U}^{T} \\\\\n",
    "  & = \\mathbf{I} \\big( \\big( \\mathbf{I}^{T} \\mathbf{U} \\big)^{\\dagger} \\big)^{T} \\mathbf{U}^{T} \\\\\n",
    "  & = \\mathbf{U} \\big( \\big( \\mathbf{U}^{T} \\mathbf{U} \\big)^{-1}  \\big)^{T} \\mathbf{U}^{T} \\\\\n",
    "  & = \\mathbf{U} \\big( \\mathbf{U}^{T} \\mathbf{U} \\big)^{-1} \\mathbf{U}^{T} \\\\\n",
    "  & = \\mathbf{P}_{p}\n",
    "\\end{align*}\n",
    "$$\n",
    "\n",
    "##### Case 2: &emsp; $r' < n$\n",
    "\n",
    "Since $\\mathbf{P}^{T} \\mathbf{U}$ is not full rank and square the conditions of the Moore-Penrose pseudomatrix are not met I cannot reduce this further to show $\\mathcal{P}_{r}^{T} = \\mathcal{P}_{r}$ which implies $\\mathcal{P}_{r}^{T} \\neq \\mathcal{P}_{r}$ when $r' \\lt n$.\n",
    "<br>\n",
    "<div style=\"border:solid; margin: auto; text-align: center; padding: 1em\">\n",
    "$\\therefore$ $\\mathcal{P}_{r}$ is an oblique projector when $r' \\lt n$.\n",
    "</div>"
   ]
  },
  {
   "cell_type": "markdown",
   "id": "e3d6f930-aa1d-425a-ac2d-fa8c4d0d861c",
   "metadata": {},
   "source": [
    "9\\. Show that $\\mathcal{P}_{i}$ is an oblique projector.\n",
    "\n",
    "It was shown in 6\\. that $\\mathcal{P}_{i}$ is a projector.  If $\\mathcal{P}^{T} = \\mathcal{P}$ the projector is orthogonal; otherwise (i.e., $\\mathcal{P}^{T} \\neq \\mathcal{P}$) the projector is oblique.\n",
    "\n",
    "From Equation $(\\ref{eq:interpolation})$:\n",
    "\n",
    "$$\n",
    "\\begin{align*}\n",
    "  \\mathcal{P}_{i}^{T} & = \\big( \\mathbf{U} \\big( \\mathbf{P}^{T} \\mathbf{U} \\big)^{-1} \\mathbf{P}^{T} \\big)^{T} \\\\\n",
    "  & = \\mathbf{P} \\big( \\big( \\mathbf{P}^{T} \\mathbf{U} \\big)^{-1} \\big)^{T} \\mathbf{U}^{T} \\\\\n",
    "  & = \\mathbf{P} \\big( \\mathbf{P}^{T} \\mathbf{U} \\big)^{-1} \\mathbf{U}^{T} \\\\\n",
    "  & \\neq \\mathcal{P}_{i}\n",
    "\\end{align*}\n",
    "$$\n",
    "<br>\n",
    "<div style=\"border:solid; margin: auto; text-align: center; padding: 1em\">\n",
    "$\\therefore$ $\\mathcal{P}_{i}$ is an oblique projector.\n",
    "</div>"
   ]
  },
  {
   "cell_type": "markdown",
   "id": "b6f7c88b",
   "metadata": {},
   "source": [
    "\n",
    "### Problem 2\n",
    "\n",
    "Adopt the notation introduced in [Problem 1](#Problem-1) for this problem as well.  Consider the vectors $\\mathbf{f}$ and $\\mathbf{U}$ given by:\n",
    "\n",
    "$$\n",
    "\\mathbf{f} = \n",
    "\\begin{pmatrix}\n",
    "  1 \\\\\n",
    "  0 \\\\\n",
    "  -2\n",
    "\\end{pmatrix}\n",
    "\\qquad\n",
    "\\mathbf{U} = \n",
    "\\begin{bmatrix}\n",
    "  \\frac{1}{\\sqrt{2}}\n",
    "  \\begin{pmatrix}\n",
    "    1 \\\\\n",
    "    -1 \\\\\n",
    "    0\n",
    "  \\end{pmatrix}\n",
    "  \\text{, }\n",
    "  \\frac{1}{\\sqrt{3}}\n",
    "  \\begin{pmatrix}\n",
    "    1 \\\\\n",
    "    1 \\\\\n",
    "    1\n",
    "  \\end{pmatrix}\n",
    "\\end{bmatrix}\n",
    "\\qquad\n",
    "$$\n",
    "\n",
    "Therefore, in this problem, the *ambient* dimension is $n = 3$ and the dimension of the subspace is $r = 2$.\n",
    "\n",
    "Consider $\\mathbf{p} = \\big[ 1, 3 \\big]$."
   ]
  },
  {
   "cell_type": "markdown",
   "id": "9627dca5-7c8b-49b3-aaf4-86e95b78e714",
   "metadata": {},
   "source": [
    "\n",
    "#### Problem 2 calculations\n"
   ]
  },
  {
   "cell_type": "markdown",
   "id": "d72182e5-d632-4084-a94b-7d3f6343a622",
   "metadata": {},
   "source": [
    "1\\. Compute the interpolatory projector $\\mathcal{P}_{i}$ and compute $\\mathbf{\\hat{f}} = \\mathcal{P}_{i} \\mathbf{f}$.\n",
    "\n",
    "$$\n",
    "\\mathbf{P} \\equiv \\mathbf{I}(:, \\mathbf{p}) = \\mathbf{I} \\big(: \\;, \\; [ 1, 3 ]\\big) = \n",
    "\\begin{bmatrix}\n",
    "  1 & 0 & 0\\\\\n",
    "  0 & 1 & 0\\\\\n",
    "  0 & 0 & 1\n",
    "\\end{bmatrix}\n",
    "$$\n",
    "\n",
    "From Equation $(\\ref{eq:interpolation})$:\n",
    "\n",
    "$$\n",
    "\\begin{align*}\n",
    "  \\mathcal{P}_i & = \\mathbf{U} \\big( \\mathbf{P}^{T} \\mathbf{U} \\big)^{-1} \\mathbf{P}^{T} \\\\ \\\\\n",
    "  & = \n",
    "  \\begin{bmatrix}\n",
    "    1/\\sqrt{2} & 1/\\sqrt{3} \\\\\n",
    "    -1/\\sqrt{2} & 1/\\sqrt{3} \\\\\n",
    "    0 & 1/\\sqrt{3}\n",
    "  \\end{bmatrix}\n",
    "  \\Bigg(\n",
    "  \\begin{bmatrix}\n",
    "    1 & 0 & 0 \\\\\n",
    "    0 & 0 & 1\n",
    "  \\end{bmatrix}\n",
    "  \\begin{bmatrix}\n",
    "    1/\\sqrt{2} & 1/\\sqrt{3} \\\\\n",
    "    -1/\\sqrt{2} & 1/\\sqrt{3} \\\\\n",
    "    0 & 1/\\sqrt{3}\n",
    "  \\end{bmatrix}\n",
    "  \\Bigg)^{-1}\n",
    "  \\begin{bmatrix}\n",
    "    1 & 0 & 0 \\\\\n",
    "    0 & 0 & 1\n",
    "  \\end{bmatrix}\n",
    "\\end{align*}\n",
    "$$"
   ]
  },
  {
   "cell_type": "code",
   "execution_count": 69,
   "id": "8581cf14-a486-48ee-9021-05ffbf537d0e",
   "metadata": {
    "tags": []
   },
   "outputs": [
    {
     "name": "stdout",
     "output_type": "stream",
     "text": [
      "[[ 0.83333333 -0.16666667  0.33333333]\n",
      " [-0.16666667  0.83333333  0.33333333]\n",
      " [ 0.33333333  0.33333333  0.33333333]]\n"
     ]
    }
   ],
   "source": [
    "# Python to do the computation\n",
    "# Import necessary moduels and libraries\n",
    "import numpy as np\n",
    "\n",
    "# Define the matrices\n",
    "matrix1 = np.array([[1/np.sqrt(2), 1/np.sqrt(3)], [-1/np.sqrt(2), 1/np.sqrt(3)], [0, 1/np.sqrt(3)]])\n",
    "matrix2 = np.array([[1, 0, 0], [0, 0, 1]])\n",
    "\n",
    "# Calculate the result\n",
    "result = np.dot(matrix1, np.dot(np.linalg.inv(np.dot(matrix1.T, matrix1)), matrix1.T))\n",
    "\n",
    "print(result)"
   ]
  },
  {
   "cell_type": "markdown",
   "id": "8ba5102e-7138-4f41-8987-1caead4f0d2d",
   "metadata": {},
   "source": [
    "$$\n",
    "\\mathcal{P}_{i} = \n",
    "\\begin{bmatrix}\n",
    "  5/6 & -1/6 & 1/3 \\\\\n",
    "  -1/6 & 5/6 & 1/3 \\\\\n",
    "  1/3 & 1/3 & 1/3\n",
    "\\end{bmatrix}\n",
    "$$"
   ]
  },
  {
   "cell_type": "markdown",
   "id": "d63b7557-ff0e-4f87-b573-2463e9966b33",
   "metadata": {},
   "source": [
    "$$\n",
    "\\begin{align*}\n",
    "  \\mathbf{\\hat{f}} & = \\mathcal{P}_{i} \\mathbf{f} \\\\ \\\\\n",
    "  & = \n",
    "  \\begin{bmatrix}\n",
    "    5/6 & -1/6 & 1/3 \\\\\n",
    "    -1/6 & 5/6 & 1/3 \\\\\n",
    "    1/3 & 1/3 & 1/3\n",
    "  \\end{bmatrix}\n",
    "  \\begin{bmatrix}\n",
    "    1 \\\\\n",
    "    0 \\\\\n",
    "    -2\n",
    "  \\end{bmatrix}\n",
    "\\end{align*}\n",
    "$$"
   ]
  },
  {
   "cell_type": "code",
   "execution_count": 70,
   "id": "fb4cd027-8fbb-4cc9-9f6d-e4246e98b82c",
   "metadata": {
    "tags": []
   },
   "outputs": [
    {
     "name": "stdout",
     "output_type": "stream",
     "text": [
      "[ 0.16666667 -0.83333333 -0.33333333]\n"
     ]
    }
   ],
   "source": [
    "# Python to do the computation\n",
    "# Import necessary moduels and libraries\n",
    "import numpy as np\n",
    "\n",
    "# Define the matrix\n",
    "matrix = np.array([[5/6, -1/6, 1/3], [-1/6, 5/6, 1/3], [1/3, 1/3, 1/3]])\n",
    "\n",
    "# Define the vector\n",
    "vector = np.array([1, 0, -2])\n",
    "\n",
    "# Calculate the result\n",
    "result = np.dot(matrix, vector)\n",
    "\n",
    "print(result)"
   ]
  },
  {
   "cell_type": "markdown",
   "id": "1d5692b7-4625-4155-9531-b13d509fd746",
   "metadata": {},
   "source": [
    "$$\n",
    "\\mathbf{\\hat{f}} =\n",
    "\\begin{bmatrix}\n",
    "  1/6 \\\\\n",
    "  -5/6 \\\\\n",
    "  -1/3\n",
    "\\end{bmatrix}\n",
    "$$"
   ]
  },
  {
   "cell_type": "markdown",
   "id": "de1b089e-d3bf-495f-a4a1-bdb4bb50ef92",
   "metadata": {},
   "source": [
    "\n",
    "<div style=\"border:solid; margin: auto; text-align: center; padding: 1em\">\n",
    "$$\n",
    "\\mathcal{P}_{i} = \n",
    "\\begin{bmatrix}\n",
    "  5/6 & -1/6 & 1/3 \\\\\n",
    "  -1/6 & 5/6 & 1/3 \\\\\n",
    "  1/3 & 1/3 & 1/3\n",
    "\\end{bmatrix}\n",
    "\\qquad\n",
    "\\text{ and }\n",
    "\\qquad\n",
    "\\mathbf{\\hat{f}} =\n",
    "\\begin{bmatrix}\n",
    "  1/6 \\\\\n",
    "  -5/6 \\\\\n",
    "  -1/3\n",
    "\\end{bmatrix}\n",
    "$$\n",
    "</div>"
   ]
  },
  {
   "cell_type": "markdown",
   "id": "44f00cc8-7999-4e61-b546-5a6693af4855",
   "metadata": {},
   "source": [
    "2\\. Confirm that $\\mathbf{\\hat{f}}(\\mathbf{p}) = \\mathbf{f}(\\mathbf{p})$\n",
    "\n",
    "$\\mathbf{f}$ and $\\mathbf{\\hat{f}}$ are linearly dependent since $\\alpha \\mathbf{f} = \\mathbf{\\hat{f}}$ when $\\alpha = 1/6$\n",
    "\n",
    "<div style=\"border:solid; margin: auto; text-align: center; padding: 1em\">\n",
    "$$\n",
    "\\begin{align*}\n",
    "  \\mathbf{\\hat{f}}(\\mathbf{p}) & =\n",
    "  \\begin{bmatrix}\n",
    "    1/6 \\\\\n",
    "    -1/3\n",
    "  \\end{bmatrix} =\n",
    "  \\alpha \\begin{bmatrix}\n",
    "    1 \\\\\n",
    "    -2 \n",
    "  \\end{bmatrix} = 6 \n",
    "  \\begin{bmatrix}\n",
    "    1/6 \\\\\n",
    "    -1/3 \n",
    "  \\end{bmatrix} = \n",
    "  \\begin{bmatrix}\n",
    "    1 \\\\\n",
    "    -2\n",
    "  \\end{bmatrix} =\n",
    "  \\mathbf{f}(\\mathbf{p})\n",
    "\\end{align*}\n",
    "$$\n",
    "</div>"
   ]
  },
  {
   "cell_type": "markdown",
   "id": "6df52cc2-06ec-4626-9abf-aff13df4d079",
   "metadata": {},
   "source": [
    "3\\. Compute the error of the interpolatory projector $\\mathbf{e} = \\mathbf{f} - \\mathbf{\\hat{f}}$.\n",
    "\n",
    "$$\n",
    "\\begin{align*}\n",
    "  \\mathbf{e} & = \\mathbf{f} - \\mathbf{\\hat{f}} \\\\ \\\\\n",
    "  & =\n",
    "  \\begin{bmatrix}\n",
    "    1 \\\\\n",
    "    0 \\\\\n",
    "    -2\n",
    "  \\end{bmatrix} -\n",
    "  \\begin{bmatrix}\n",
    "  1/6 \\\\\n",
    "  -5/6 \\\\\n",
    "  -1/3\n",
    "  \\end{bmatrix} \\\\ \\\\\n",
    "  & = \n",
    "  \\begin{bmatrix}\n",
    "    5/6 \\\\\n",
    "    5/6 \\\\\n",
    "    -5/3\n",
    "  \\end{bmatrix}\n",
    "\\end{align*}\n",
    "$$\n",
    "<br>\n",
    "<div style=\"border:solid; margin: auto; text-align: center; padding: 1em\">\n",
    "$$\n",
    "\\mathbf{e} =\n",
    "\\begin{bmatrix}\n",
    "  5/6 \\\\\n",
    "  5/6 \\\\\n",
    "  -5/3\n",
    "\\end{bmatrix}\n",
    "$$\n",
    "</div>"
   ]
  },
  {
   "cell_type": "markdown",
   "id": "1e572ed1-ffd6-4b37-9319-246a5d8d45f7",
   "metadata": {},
   "source": [
    "4\\. Confirm that $\\mathcal{P}_{i}$ is an oblique projector by showing that $\\mathbf{e}$ and $\\mathbf{\\hat{f}}$ are not orthogonal to each other. Compute the angle between $\\mathbf{\\hat{f}}$ and $\\mathbf{e}$.\n",
    "\n",
    "$$\n",
    "\\begin{align*}\n",
    "  \\langle \\mathbf{e}, \\mathbf{\\hat{f}} \\rangle & = \\mathbf{e}^{T} \\mathbf{\\hat{f}} \\\\\n",
    " & =  \\begin{bmatrix}\n",
    "    5/6 & 5/6 & -5/3\n",
    "  \\end{bmatrix}\n",
    "  \\begin{bmatrix}\n",
    "    1/6 \\\\\n",
    "    -5/6 \\\\\n",
    "    -1/3\n",
    "  \\end{bmatrix} \\\\\n",
    "  & = 25/6\n",
    "\\end{align*}\n",
    "\n",
    "The angle between two vectors is defined as:\n",
    "\n",
    "$$\n",
    "\\begin{align*}\n",
    "  \\cos{\\theta} = \\frac{\\mathbf{e}^{T} \\mathbf{\\hat{f}}}{\\lVert \\mathbf{e} \\rVert \\lVert \\mathbf{\\hat{f}} \\rVert}\n",
    "\\end{align*}\n",
    "$$"
   ]
  },
  {
   "cell_type": "code",
   "execution_count": 71,
   "id": "ff2a8f35-497b-460f-b40f-bc1064815ebf",
   "metadata": {
    "tags": []
   },
   "outputs": [
    {
     "name": "stdout",
     "output_type": "stream",
     "text": [
      "24.09484255211071\n"
     ]
    }
   ],
   "source": [
    "# Python to do the computation\n",
    "# Import necessary moduels and libraries\n",
    "import numpy as np\n",
    "\n",
    "# Define the two vectors\n",
    "evec = np.array([5/6, 5/6, -5/3])\n",
    "fvec = np.array([1, 0, -2])\n",
    "\n",
    "# Calculate the dot product of the two vectors\n",
    "dot_product = np.dot(evec, fvec)\n",
    "\n",
    "# Calculate the magnitude (norm) of each vector\n",
    "magnitude1 = np.linalg.norm(evec)\n",
    "magnitude2 = np.linalg.norm(fvec)\n",
    "\n",
    "# Calculate the cosine of the angle\n",
    "cosine_theta = dot_product / (magnitude1 * magnitude2)\n",
    "\n",
    "# Calculate the angle in radians using the arccosine function\n",
    "angle_rad = np.arccos(cosine_theta)\n",
    "\n",
    "# Convert the angle from radians to degrees\n",
    "result = np.degrees(angle_rad)\n",
    "\n",
    "print(result)"
   ]
  },
  {
   "cell_type": "markdown",
   "id": "d944cfd0-9abb-418a-b217-7be5559d9b40",
   "metadata": {
    "tags": []
   },
   "source": [
    "The angle between the two vectors is $\\approx 24 \\; \\text{deg}$\n",
    "\n",
    "<div style=\"border:solid; margin: auto; text-align: center; padding: 1em\">\n",
    "$\\langle \\mathbf{e}, \\mathbf{\\hat{f}} \\rangle = 25/6 \\neq 0$  which means the vectors are oblique, and the angle between the two vectors is $\\approx 24 \\; \\text{deg}$\n",
    "</div>"
   ]
  },
  {
   "cell_type": "markdown",
   "id": "a5ef5894-bb08-4c47-8810-90e7f4fd8463",
   "metadata": {},
   "source": [
    "5\\. Compute the magnitude of the error $\\lVert \\mathbf{e} \\rVert$ and compare the value of this error with that obtained from the orthogonal projection of $\\mathbf{f}$ onto $\\mathbf{U}$.  For the orthogonal projection, you can use your results from Homework 2, Problem 2, Part 6.\n",
    "\n",
    "$$\n",
    "\\begin{align*}\n",
    "  \\rVert \\mathbf{e} \\lVert & = \\sqrt{e_{1}^{2} + e_{2}^{2} + e_{3}^{2}} \\\\\n",
    "  & = \\sqrt{(5/6)^{2} + (5/6)^{2} + (-5/3)^{2}} \\\\\n",
    "  & = \\sqrt{25/36 + 25/36 +100/36} \\\\\n",
    "  & = \\frac{5}{\\sqrt{3} \\; \\sqrt{2}}\n",
    "\\end{align*}\n",
    "$$\n",
    "\n",
    "From Homework 2, Problem 2, Part 6:\n",
    "\n",
    "$$\n",
    "\\begin{align*}\n",
    "\\mathcal{P}_{p} \\mathbf{x} & =\n",
    "  \\begin{bmatrix}\n",
    "    1/6 \\\\\n",
    "    -5/6 \\\\\n",
    "    -1/3\n",
    "  \\end{bmatrix}\n",
    "\\end{align*}\n",
    "$$\n",
    "\n",
    "$$\n",
    "\\begin{align*}\n",
    "  \\lVert \\mathcal{P}_{p} \\mathbf{x} \\rVert & =\n",
    "  \\sqrt{ (1/6)^{2} + (-5/6)^{2} + (-1/3)^{2}} \\\\\n",
    "  & = \\sqrt{ 1/36 + 25/36 + 4/36} \\\\\n",
    "  & = \\sqrt{30/36} \\\\\n",
    "  & = \\frac{\\sqrt{5}}{\\sqrt{3} \\; \\sqrt{2}}\n",
    "\\end{align*}\n",
    "$$\n",
    "<br>\n",
    "<div style=\"border:solid; margin: auto; text-align: center; padding: 1em\">\n",
    "The value of this error is $\\frac{5 - \\sqrt{5}}{\\sqrt{3} \\; \\sqrt{2}}$\n",
    "</div>"
   ]
  },
  {
   "cell_type": "markdown",
   "id": "6c117505",
   "metadata": {},
   "source": [
    "\n",
    "### Problem 3\n",
    "\n",
    "Consider $\\mathbf{x} \\in \\mathbb{R}^{n \\times 1}$ be an equidistant discretization of $x \\in \\big[ -1, 1 \\big]$.  This can achieved in MATLAB with $\\mathbf{x} = $ `linspace(-1, 1, n)'`.  Take $n = 100$. Consider how the vector $\\mathbf{f}$ and the matrix $\\mathbf{U}$ as in the following:\n",
    "\n",
    "$$\n",
    "\\mathbf{f} = \\exp \\big( -2x^{2} \\big)\n",
    "\\qquad\n",
    "\\text{ and }\n",
    "\\qquad\n",
    "\\mathbf{U} =\n",
    "\\begin{bmatrix}\n",
    "  \\mathbf{1} & x & x^{2} & x^{3} & x^{4}\n",
    "\\end{bmatrix}\n",
    "$$\n",
    "\n",
    "where $\\mathbf{1} = \\big[ 1, 1, \\ldots, 1 \\big]^{T} \\in \\mathbb{R}^{ n \\times 1}$, and $\\mathbf{U} \\in \\mathbb{R}^{n \\times 5}$.  Therefore, in this problem, the *ambient* dimension is $n=100$ and the dimension of the subspace is $r=5$."
   ]
  },
  {
   "cell_type": "markdown",
   "id": "7785c01f",
   "metadata": {
    "tags": []
   },
   "source": [
    "\n",
    "#### Problem 3 calculations\n"
   ]
  },
  {
   "cell_type": "markdown",
   "id": "ddc4792f-bd12-488d-83fd-125d189c869c",
   "metadata": {},
   "source": [
    "1\\. Compute the orthogonal projection of $\\mathbf{f}$ onto $\\mathbf{U}$ and denote the projected vector with $\\mathbf{\\hat{f}_{o}}$.  Compute the error $\\mathbf{e_{o}} = \\mathbf{f} - \\mathbf{\\hat{f}_{o}}$ and show that the error is orthogonal to $\\mathbf{\\hat{f}_{o}}$."
   ]
  },
  {
   "cell_type": "markdown",
   "id": "be3bd186-45b0-4c7d-903d-7088b06f1c54",
   "metadata": {},
   "source": [
    "$\\mathcal{P}_{p} = \\mathbf{U} \\big( \\mathbf{U}^{T} \\mathbf{U} \\big)^{-1} \\mathbf{U}^{T}$\n",
    "\n",
    "$\\mathbf{\\hat{f}_o} = \\mathcal{P}_{p} \\mathbf{f}$"
   ]
  },
  {
   "cell_type": "code",
   "execution_count": 76,
   "id": "9ae55e5b-1c43-4068-982e-cdb4112074dc",
   "metadata": {
    "tags": []
   },
   "outputs": [],
   "source": [
    "# Python to do the computation\n",
    "# Import necessary moduels and libraries\n",
    "import numpy as np\n",
    "\n",
    "# Define the value of n\n",
    "n = 100\n",
    "\n",
    "# Create the range [-1, 1]\n",
    "x = np.linspace(-1, 1, n).reshape(-1, 1)  # Reshape to make it a column vector\n",
    "\n",
    "# Create the vector f\n",
    "f = np.exp(-2 * x**2)\n",
    "\n",
    "# Create the matrix U\n",
    "U = np.column_stack([np.ones((n, 1)), x, x**2, x**3, x**4])\n",
    "\n",
    "# Calculate the projection matrix Pp\n",
    "Pp = np.dot(U, np.dot(np.linalg.inv(np.dot(U.T, U)), U.T))\n",
    "\n",
    "# Calculate the estimated f_hat_o\n",
    "f_hat_o = np.dot(Pp, f)\n",
    "\n",
    "# Calculate the error vector e_o\n",
    "e_o = f - f_hat_o\n",
    "\n",
    "# Calculate the euclidean inner product\n",
    "inprod = np.dot(e_o.T, f_hat_o)"
   ]
  },
  {
   "cell_type": "markdown",
   "id": "b97185be-a877-4ec6-b409-a509b2a93144",
   "metadata": {},
   "source": [
    "\n",
    "#### Orthogonal projection\n",
    "\n",
    "Unhide this code block output to see the result."
   ]
  },
  {
   "cell_type": "code",
   "execution_count": 77,
   "id": "e5e0ea22-dd12-44da-8a1a-9f10aa269e30",
   "metadata": {
    "collapsed": true,
    "jupyter": {
     "outputs_hidden": true
    },
    "tags": []
   },
   "outputs": [
    {
     "name": "stdout",
     "output_type": "stream",
     "text": [
      "[[0.16417797]\n",
      " [0.16419363]\n",
      " [0.16686242]\n",
      " [0.17202019]\n",
      " [0.17950624]\n",
      " [0.18916328]\n",
      " [0.20083744]\n",
      " [0.21437826]\n",
      " [0.2296387 ]\n",
      " [0.24647517]\n",
      " [0.26474745]\n",
      " [0.28431878]\n",
      " [0.3050558 ]\n",
      " [0.32682857]\n",
      " [0.34951058]\n",
      " [0.37297873]\n",
      " [0.39711334]\n",
      " [0.42179814]\n",
      " [0.44692031]\n",
      " [0.47237042]\n",
      " [0.49804247]\n",
      " [0.52383388]\n",
      " [0.54964548]\n",
      " [0.57538154]\n",
      " [0.60094973]\n",
      " [0.62626115]\n",
      " [0.65123031]\n",
      " [0.67577514]\n",
      " [0.69981701]\n",
      " [0.72328068]\n",
      " [0.74609435]\n",
      " [0.76818963]\n",
      " [0.78950155]\n",
      " [0.80996857]\n",
      " [0.82953255]\n",
      " [0.84813878]\n",
      " [0.86573597]\n",
      " [0.88227626]\n",
      " [0.89771518]\n",
      " [0.91201172]\n",
      " [0.92512824]\n",
      " [0.93703057]\n",
      " [0.94768792]\n",
      " [0.95707294]\n",
      " [0.9651617 ]\n",
      " [0.97193367]\n",
      " [0.97737177]\n",
      " [0.9814623 ]\n",
      " [0.98419503]\n",
      " [0.9855631 ]\n",
      " [0.9855631 ]\n",
      " [0.98419503]\n",
      " [0.9814623 ]\n",
      " [0.97737177]\n",
      " [0.97193367]\n",
      " [0.9651617 ]\n",
      " [0.95707294]\n",
      " [0.94768792]\n",
      " [0.93703057]\n",
      " [0.92512824]\n",
      " [0.91201172]\n",
      " [0.89771518]\n",
      " [0.88227626]\n",
      " [0.86573597]\n",
      " [0.84813878]\n",
      " [0.82953255]\n",
      " [0.80996857]\n",
      " [0.78950155]\n",
      " [0.76818963]\n",
      " [0.74609435]\n",
      " [0.72328068]\n",
      " [0.69981701]\n",
      " [0.67577514]\n",
      " [0.65123031]\n",
      " [0.62626115]\n",
      " [0.60094973]\n",
      " [0.57538154]\n",
      " [0.54964548]\n",
      " [0.52383388]\n",
      " [0.49804247]\n",
      " [0.47237042]\n",
      " [0.44692031]\n",
      " [0.42179814]\n",
      " [0.39711334]\n",
      " [0.37297873]\n",
      " [0.34951058]\n",
      " [0.32682857]\n",
      " [0.3050558 ]\n",
      " [0.28431878]\n",
      " [0.26474745]\n",
      " [0.24647517]\n",
      " [0.2296387 ]\n",
      " [0.21437826]\n",
      " [0.20083744]\n",
      " [0.18916328]\n",
      " [0.17950624]\n",
      " [0.17202019]\n",
      " [0.16686242]\n",
      " [0.16419363]\n",
      " [0.16417797]]\n"
     ]
    }
   ],
   "source": [
    "print(f_hat_o)"
   ]
  },
  {
   "cell_type": "markdown",
   "id": "b973270f-1de3-46a1-be53-3940e0892220",
   "metadata": {},
   "source": [
    "\n",
    "#### Error\n",
    "\n",
    "Unhide this code block output to see the result."
   ]
  },
  {
   "cell_type": "code",
   "execution_count": 78,
   "id": "38748853-3987-4af3-bab1-24334aec5c71",
   "metadata": {
    "collapsed": true,
    "jupyter": {
     "outputs_hidden": true
    },
    "tags": []
   },
   "outputs": [
    {
     "name": "stdout",
     "output_type": "stream",
     "text": [
      "[[-2.88426871e-02]\n",
      " [-1.75878671e-02]\n",
      " [-8.30663354e-03]\n",
      " [-8.20039924e-04]\n",
      " [ 5.04510250e-03]\n",
      " [ 9.45595382e-03]\n",
      " [ 1.25733752e-02]\n",
      " [ 1.45516624e-02]\n",
      " [ 1.55382852e-02]\n",
      " [ 1.56736373e-02]\n",
      " [ 1.50907985e-02]\n",
      " [ 1.39153133e-02]\n",
      " [ 1.22649890e-02]\n",
      " [ 1.02497165e-02]\n",
      " [ 7.97131805e-03]\n",
      " [ 5.52342344e-03]\n",
      " [ 2.99137946e-03]\n",
      " [ 4.52194399e-04]\n",
      " [-2.02547928e-03]\n",
      " [-4.38132194e-03]\n",
      " [-6.56328140e-03]\n",
      " [-8.52746354e-03]\n",
      " [-1.02379777e-02]\n",
      " [-1.16667364e-02]\n",
      " [-1.27932085e-02]\n",
      " [-1.36041271e-02]\n",
      " [-1.40931519e-02]\n",
      " [-1.42604888e-02]\n",
      " [-1.41124674e-02]\n",
      " [-1.36610793e-02]\n",
      " [-1.29234815e-02]\n",
      " [-1.19214666e-02]\n",
      " [-1.06809053e-02]\n",
      " [-9.23116574e-03]\n",
      " [-7.60451363e-03]\n",
      " [-5.83550007e-03]\n",
      " [-3.96034161e-03]\n",
      " [-2.01629908e-03]\n",
      " [-4.10610701e-05]\n",
      " [ 1.92786161e-03]\n",
      " [ 3.85372439e-03]\n",
      " [ 5.70111407e-03]\n",
      " [ 7.43648466e-03]\n",
      " [ 9.02865816e-03]\n",
      " [ 1.04492849e-02]\n",
      " [ 1.16732582e-02]\n",
      " [ 1.26790789e-02]\n",
      " [ 1.34491658e-02]\n",
      " [ 1.39701082e-02]\n",
      " [ 1.42328577e-02]\n",
      " [ 1.42328577e-02]\n",
      " [ 1.39701082e-02]\n",
      " [ 1.34491658e-02]\n",
      " [ 1.26790789e-02]\n",
      " [ 1.16732582e-02]\n",
      " [ 1.04492849e-02]\n",
      " [ 9.02865816e-03]\n",
      " [ 7.43648466e-03]\n",
      " [ 5.70111407e-03]\n",
      " [ 3.85372439e-03]\n",
      " [ 1.92786161e-03]\n",
      " [-4.10610701e-05]\n",
      " [-2.01629908e-03]\n",
      " [-3.96034161e-03]\n",
      " [-5.83550007e-03]\n",
      " [-7.60451363e-03]\n",
      " [-9.23116574e-03]\n",
      " [-1.06809053e-02]\n",
      " [-1.19214666e-02]\n",
      " [-1.29234815e-02]\n",
      " [-1.36610793e-02]\n",
      " [-1.41124674e-02]\n",
      " [-1.42604888e-02]\n",
      " [-1.40931519e-02]\n",
      " [-1.36041271e-02]\n",
      " [-1.27932085e-02]\n",
      " [-1.16667364e-02]\n",
      " [-1.02379777e-02]\n",
      " [-8.52746354e-03]\n",
      " [-6.56328140e-03]\n",
      " [-4.38132194e-03]\n",
      " [-2.02547928e-03]\n",
      " [ 4.52194399e-04]\n",
      " [ 2.99137946e-03]\n",
      " [ 5.52342344e-03]\n",
      " [ 7.97131805e-03]\n",
      " [ 1.02497165e-02]\n",
      " [ 1.22649890e-02]\n",
      " [ 1.39153133e-02]\n",
      " [ 1.50907985e-02]\n",
      " [ 1.56736373e-02]\n",
      " [ 1.55382852e-02]\n",
      " [ 1.45516624e-02]\n",
      " [ 1.25733752e-02]\n",
      " [ 9.45595382e-03]\n",
      " [ 5.04510250e-03]\n",
      " [-8.20039924e-04]\n",
      " [-8.30663354e-03]\n",
      " [-1.75878671e-02]\n",
      " [-2.88426871e-02]]\n"
     ]
    }
   ],
   "source": [
    "print(e_o)"
   ]
  },
  {
   "cell_type": "markdown",
   "id": "b0814250-3fac-4d36-acec-657f53e9c4e6",
   "metadata": {},
   "source": [
    "\n",
    "#### Orthogonality\n"
   ]
  },
  {
   "cell_type": "code",
   "execution_count": 79,
   "id": "fe070777-0f67-4bcf-a45c-9324ddeb3e6f",
   "metadata": {
    "tags": []
   },
   "outputs": [
    {
     "name": "stdout",
     "output_type": "stream",
     "text": [
      "[[2.71831169e-14]]\n"
     ]
    }
   ],
   "source": [
    "print(inprod)"
   ]
  },
  {
   "cell_type": "markdown",
   "id": "3b6ea5b2-bdb1-48bc-b6ec-3d4c4776d587",
   "metadata": {},
   "source": [
    "<div style=\"border:solid; margin: auto; text-align: center; padding: 1em\">\n",
    "Since the inner product is 0, $\\mathbf{e}$ and $\\mathbf{\\hat{f}_{o}}$ are orthogonal.\n",
    "</div>"
   ]
  },
  {
   "cell_type": "markdown",
   "id": "56071b94-02e3-468e-9df4-216997d40699",
   "metadata": {},
   "source": [
    "2\\. Consider the indices $\\mathbf{p}_{i_{1}} = \\big[ 1 \\; 100 \\; 17 \\; 84 \\; 50 \\big]$.  Note that the order of these indices is not important.  Use these indices to build an interpolatory projector $\\mathcal{P}_{i_{1}}$ and interpolate $\\mathbf{f}$ onto $\\mathbf{U}$ using $\\mathcal{P}_{i_{1}}$.  Denote the interpolated function with $\\mathbf{\\hat{f}}_{i_{1}}$. Show that $\\mathbf{f} ( \\mathbf{p}_{1} ) = \\mathbf{\\hat{f}}_{i_{1}} ( \\mathbf{p}_{1} )$.  Compute the projection error $\\mathbf{e}_{i_{1}} = \\mathbf{f} - \\mathbf{\\hat{f}}_{i_{1}}$.  What is the angle between $\\mathbf{e}_{i_{1}}$ and $\\mathbf{\\hat{f}}_{i_{1}}$?  Denote the angle (in degree) with $\\alpha_{1}$."
   ]
  },
  {
   "cell_type": "markdown",
   "id": "bc147a4e-9ff4-4cc4-9fbe-d450309dfed1",
   "metadata": {},
   "source": [
    "$\\mathcal{P}_{i_{1}} = \\mathbf{U} \\big( \\mathbf{P}_{i_{1}}^{T} \\mathbf{U} \\big)^{-1} \\mathbf{P}_{i_{1}}^{T}$\n",
    "\n",
    "$\\mathbf{\\hat{f}}_{i_{1}} = \\mathcal{P}_{i_{1}} \\mathbf{f}$"
   ]
  },
  {
   "cell_type": "code",
   "execution_count": 116,
   "id": "e2e174f5-6655-4175-95ed-d9d97352ae1b",
   "metadata": {
    "tags": []
   },
   "outputs": [],
   "source": [
    "# Python to do the computation\n",
    "# Import necessary moduels and libraries\n",
    "import numpy as np\n",
    "\n",
    "# Define the value of n\n",
    "n = 100\n",
    "\n",
    "# Create the range [-1, 1]\n",
    "x = np.linspace(-1, 1, n).reshape(-1, 1)  # Reshape to make it a column vector\n",
    "\n",
    "# Create the vector f\n",
    "f = np.exp(-2 * x**2)\n",
    "\n",
    "# Create the matrix U\n",
    "U = np.column_stack([np.ones((n, 1)), x, x**2, x**3, x**4])\n",
    "\n",
    "# Define the integer index vector p_i1\n",
    "p_i1 = np.array([1, 100, 17, 84, 50])\n",
    "\n",
    "# Define the size of the matrix\n",
    "matrix_size = (100, 5)  # Correct size for P_i1\n",
    "\n",
    "# Create an empty matrix filled with zeros\n",
    "P_i1 = np.zeros(matrix_size)\n",
    "\n",
    "# Set the elements at the specified indices to 1\n",
    "P_i1[p_i1 - 1, np.arange(5)] = 1  # Subtract 1 to account for 0-based indexing\n",
    "\n",
    "# Calculate the projection matrix scriptP_i1\n",
    "scriptP_i1 = np.dot(np.dot(U, np.linalg.inv(np.dot(P_i1.T, U))), P_i1.T)\n",
    "\n",
    "# Calculate f_hat_i1\n",
    "f_hat_i1 = np.dot(scriptP_i1, f)"
   ]
  },
  {
   "cell_type": "markdown",
   "id": "04b69e86-2edf-48b7-a0db-577a6e37a7bf",
   "metadata": {},
   "source": [
    "#### Show that $\\mathbf{f} ( \\mathbf{p_{1}}) = \\mathbf{\\hat{f}} ( \\mathbf{p_{1}})$"
   ]
  },
  {
   "cell_type": "code",
   "execution_count": 125,
   "id": "f809db89-9d67-46b9-a0a3-e82a5c5a0357",
   "metadata": {
    "tags": []
   },
   "outputs": [
    {
     "name": "stdout",
     "output_type": "stream",
     "text": [
      "Selected rows from f: [0.13533528 0.13533528 0.40010472 0.40010472 0.99979596]\n",
      "Selected rows from f_hat_i1: [0.13533528 0.13533528 0.40010472 0.40010472 0.99979596]\n"
     ]
    }
   ],
   "source": [
    "# p_i1 rows\n",
    "rows_to_extract = p_i1 - 1  # Subtract 1 to account for 0-based indexing\n",
    "\n",
    "# Extract the specified rows\n",
    "selected_rows = f_hat_i1[rows_to_extract].flatten()\n",
    "selected_rows_f = f[rows_to_extract].flatten()\n",
    "\n",
    "# Print the selected rows\n",
    "print(\"Selected rows from f:\", selected_rows_f)\n",
    "print(\"Selected rows from f_hat_i1:\", selected_rows)"
   ]
  },
  {
   "cell_type": "markdown",
   "id": "9e09ea85-ebd5-406a-8207-4de6c0c3cdc9",
   "metadata": {},
   "source": [
    "#### Compute the projection error\n",
    "\n",
    "Unhide the code block output below to see the output."
   ]
  },
  {
   "cell_type": "code",
   "execution_count": 118,
   "id": "401b4757-ba9d-486e-9e54-2207d2929b84",
   "metadata": {
    "collapsed": true,
    "jupyter": {
     "outputs_hidden": true
    },
    "tags": []
   },
   "outputs": [
    {
     "name": "stdout",
     "output_type": "stream",
     "text": [
      "[[ 0.00000000e+00]\n",
      " [ 8.21916653e-03]\n",
      " [ 1.46327589e-02]\n",
      " [ 1.94131632e-02]\n",
      " [ 2.27271445e-02]\n",
      " [ 2.47355757e-02]\n",
      " [ 2.55931677e-02]\n",
      " [ 2.54482024e-02]\n",
      " [ 2.44422727e-02]\n",
      " [ 2.27100317e-02]\n",
      " [ 2.03789557e-02]\n",
      " [ 1.75691221e-02]\n",
      " [ 1.43930078e-02]\n",
      " [ 1.09553102e-02]\n",
      " [ 7.35279445e-03]\n",
      " [ 3.67417000e-03]\n",
      " [ 1.11022302e-16]\n",
      " [-3.59735420e-03]\n",
      " [-7.05375044e-03]\n",
      " [-1.03132427e-02]\n",
      " [-1.33280157e-02]\n",
      " [-1.60582757e-02]\n",
      " [-1.84720956e-02]\n",
      " [-2.05452147e-02]\n",
      " [-2.22607921e-02]\n",
      " [-2.36091146e-02]\n",
      " [-2.45872588e-02]\n",
      " [-2.51987108e-02]\n",
      " [-2.54529436e-02]\n",
      " [-2.53649558e-02]\n",
      " [-2.49547745e-02]\n",
      " [-2.42469258e-02]\n",
      " [-2.32698774e-02]\n",
      " [-2.20554574e-02]\n",
      " [-2.06382551e-02]\n",
      " [-1.90550084e-02]\n",
      " [-1.73439840e-02]\n",
      " [-1.55443561e-02]\n",
      " [-1.36955901e-02]\n",
      " [-1.18368370e-02]\n",
      " [-1.00063447e-02]\n",
      " [-8.24089321e-03]\n",
      " [-6.57525860e-03]\n",
      " [-5.04171225e-03]\n",
      " [-3.66956059e-03]\n",
      " [-2.48473035e-03]\n",
      " [-1.50940401e-03]\n",
      " [-7.61709499e-04]\n",
      " [-2.55467607e-04]\n",
      " [ 3.33066907e-16]\n",
      " [ 2.22044605e-16]\n",
      " [-2.55467607e-04]\n",
      " [-7.61709499e-04]\n",
      " [-1.50940401e-03]\n",
      " [-2.48473035e-03]\n",
      " [-3.66956059e-03]\n",
      " [-5.04171225e-03]\n",
      " [-6.57525860e-03]\n",
      " [-8.24089321e-03]\n",
      " [-1.00063447e-02]\n",
      " [-1.18368370e-02]\n",
      " [-1.36955901e-02]\n",
      " [-1.55443561e-02]\n",
      " [-1.73439840e-02]\n",
      " [-1.90550084e-02]\n",
      " [-2.06382551e-02]\n",
      " [-2.20554574e-02]\n",
      " [-2.32698774e-02]\n",
      " [-2.42469258e-02]\n",
      " [-2.49547745e-02]\n",
      " [-2.53649558e-02]\n",
      " [-2.54529436e-02]\n",
      " [-2.51987108e-02]\n",
      " [-2.45872588e-02]\n",
      " [-2.36091146e-02]\n",
      " [-2.22607921e-02]\n",
      " [-2.05452147e-02]\n",
      " [-1.84720956e-02]\n",
      " [-1.60582757e-02]\n",
      " [-1.33280157e-02]\n",
      " [-1.03132427e-02]\n",
      " [-7.05375044e-03]\n",
      " [-3.59735420e-03]\n",
      " [ 2.22044605e-16]\n",
      " [ 3.67417000e-03]\n",
      " [ 7.35279445e-03]\n",
      " [ 1.09553102e-02]\n",
      " [ 1.43930078e-02]\n",
      " [ 1.75691221e-02]\n",
      " [ 2.03789557e-02]\n",
      " [ 2.27100317e-02]\n",
      " [ 2.44422727e-02]\n",
      " [ 2.54482024e-02]\n",
      " [ 2.55931677e-02]\n",
      " [ 2.47355757e-02]\n",
      " [ 2.27271445e-02]\n",
      " [ 1.94131632e-02]\n",
      " [ 1.46327589e-02]\n",
      " [ 8.21916653e-03]\n",
      " [ 0.00000000e+00]]\n"
     ]
    }
   ],
   "source": [
    "e_i1 = f - f_hat_i1\n",
    "print(e_i1)"
   ]
  },
  {
   "cell_type": "code",
   "execution_count": 119,
   "id": "73c95fde-4e28-4565-883d-ad19e180ddaa",
   "metadata": {
    "tags": []
   },
   "outputs": [
    {
     "name": "stdout",
     "output_type": "stream",
     "text": [
      "[125.04880471]\n"
     ]
    }
   ],
   "source": [
    "# Calculate the euclidean inner product\n",
    "inprod = np.dot(e_i1.T, f_hat_i1)\n",
    "\n",
    "# Convert the inner product to an angle in degrees\n",
    "inprod_deg = np.degrees(np.arccos(inprod))\n",
    "\n",
    "print(inprod_deg.flatten())"
   ]
  },
  {
   "cell_type": "markdown",
   "id": "d7e62b7f-21e0-4113-9648-ed9e73d5bb19",
   "metadata": {},
   "source": [
    "<div style=\"border:solid; margin: auto; text-align: center; padding: 1em\">\n",
    "$\\alpha_{1} \\approx 125 \\text{ degrees}$\n",
    "</div>"
   ]
  },
  {
   "cell_type": "markdown",
   "id": "0ee7885a-1649-4c06-ad51-c88d29e6a790",
   "metadata": {},
   "source": [
    "3\\. Repeat all items of Part 2 with the indices $\\mathbf{p}_{i_{2}} = \\big[ 10 \\; 20 \\; 30 \\; 40 \\; 90 \\big]$. Denote the interpolated function, the projection error, and the angle with $\\mathbf{\\hat{f}}_{i_{2}}, \\mathbf{e}_{i_{2}}, \\text{ and } \\alpha_{2}$, respectively."
   ]
  },
  {
   "cell_type": "code",
   "execution_count": 121,
   "id": "f2f2a4eb-c7a3-4934-a290-396fd83dae43",
   "metadata": {
    "tags": []
   },
   "outputs": [],
   "source": [
    "# Python to do the computation\n",
    "# Import necessary moduels and libraries\n",
    "import numpy as np\n",
    "\n",
    "# Define the value of n\n",
    "n = 100\n",
    "\n",
    "# Create the range [-1, 1]\n",
    "x = np.linspace(-1, 1, n).reshape(-1, 1)  # Reshape to make it a column vector\n",
    "\n",
    "# Create the vector f\n",
    "f = np.exp(-2 * x**2)\n",
    "\n",
    "# Create the matrix U\n",
    "U = np.column_stack([np.ones((n, 1)), x, x**2, x**3, x**4])\n",
    "\n",
    "# Define the integer index vector p_i2\n",
    "p_i2 = np.array([10, 20, 30, 40, 90])\n",
    "\n",
    "# Define the size of the matrix\n",
    "matrix_size = (100, 5)  # Correct size for P_i2\n",
    "\n",
    "# Create an empty matrix filled with zeros\n",
    "P_i2 = np.zeros(matrix_size)\n",
    "\n",
    "# Set the elements at the specified indices to 1\n",
    "P_i2[p_i2 - 1, np.arange(5)] = 1  # Subtract 1 to account for 0-based indexing\n",
    "\n",
    "# Calculate the projection matrix scriptP_i2\n",
    "scriptP_i2 = np.dot(np.dot(U, np.linalg.inv(np.dot(P_i2.T, U))), P_i2.T)\n",
    "\n",
    "# Calculate f_hat_i2\n",
    "f_hat_i2 = np.dot(scriptP_i2, f)"
   ]
  },
  {
   "cell_type": "markdown",
   "id": "8f2b16f6-1637-48f4-85d0-0d13ea7d6ff2",
   "metadata": {},
   "source": [
    "#### Show that $\\mathbf{f} ( \\mathbf{p_{2}}) = \\mathbf{\\hat{f}} ( \\mathbf{p_{2}})$"
   ]
  },
  {
   "cell_type": "code",
   "execution_count": 124,
   "id": "53be72df-23d5-40ed-9ddc-8f56fc5cbbab",
   "metadata": {
    "tags": []
   },
   "outputs": [
    {
     "name": "stdout",
     "output_type": "stream",
     "text": [
      "Selected rows from f: [0.26214881 0.4679891  0.7096196  0.91393958 0.27983825]\n",
      "Selected rows from f_hat_i2: [0.26214881 0.4679891  0.7096196  0.91393958 0.27983825]\n"
     ]
    }
   ],
   "source": [
    "# p_i2 rows\n",
    "rows_to_extract = p_i2 - 1  # Subtract 1 to account for 0-based indexing\n",
    "\n",
    "# Extract the specified rows\n",
    "selected_rows = f_hat_i2[rows_to_extract].flatten()\n",
    "selected_rows_f = f[rows_to_extract].flatten()\n",
    "\n",
    "# Print the selected rows\n",
    "print(\"Selected rows from f:\", selected_rows_f)\n",
    "print(\"Selected rows from f_hat_i2:\", selected_rows)"
   ]
  },
  {
   "cell_type": "markdown",
   "id": "173d627d-fd53-4ce8-acbe-7d3d4d99063e",
   "metadata": {},
   "source": [
    "#### Compute the projection error\n",
    "\n",
    "Unhide the code block output below to see the output."
   ]
  },
  {
   "cell_type": "code",
   "execution_count": 126,
   "id": "18c66e38-97e4-4384-91b7-3a9bc8e2d727",
   "metadata": {
    "collapsed": true,
    "jupyter": {
     "outputs_hidden": true
    },
    "tags": []
   },
   "outputs": [
    {
     "name": "stdout",
     "output_type": "stream",
     "text": [
      "[[-4.94116979e-02]\n",
      " [-3.91012960e-02]\n",
      " [-3.02943327e-02]\n",
      " [-2.28558826e-02]\n",
      " [-1.66554483e-02]\n",
      " [-1.15672304e-02]\n",
      " [-7.47039866e-03]\n",
      " [-4.24935821e-03]\n",
      " [-1.79400971e-03]\n",
      " [-8.32667268e-16]\n",
      " [ 1.23104036e-03]\n",
      " [ 1.99127558e-03]\n",
      " [ 2.36646280e-03]\n",
      " [ 2.43577307e-03]\n",
      " [ 2.27163861e-03]\n",
      " [ 1.93962950e-03]\n",
      " [ 1.49836286e-03]\n",
      " [ 9.99447481e-04]\n",
      " [ 4.87466411e-04]\n",
      " [-6.10622664e-16]\n",
      " [-4.32308727e-04]\n",
      " [-7.85644688e-04]\n",
      " [-1.04286619e-03]\n",
      " [-1.19330445e-03]\n",
      " [-1.23251708e-03]\n",
      " [-1.16199565e-03]\n",
      " [-9.88828460e-04]\n",
      " [-7.25319644e-04]\n",
      " [-3.88566871e-04]\n",
      " [-2.88657986e-15]\n",
      " [ 4.15116111e-04]\n",
      " [ 8.28211026e-04]\n",
      " [ 1.20796624e-03]\n",
      " [ 1.52089616e-03]\n",
      " [ 1.73194754e-03]\n",
      " [ 1.80511195e-03]\n",
      " [ 1.70404560e-03]\n",
      " [ 1.39269057e-03]\n",
      " [ 8.35891252e-04]\n",
      " [-3.66373598e-15]\n",
      " [-1.14653450e-03]\n",
      " [-2.63260209e-03]\n",
      " [-4.48389525e-03]\n",
      " [-6.72240835e-03]\n",
      " [-9.36597735e-03]\n",
      " [-1.24278651e-02]\n",
      " [-1.59163966e-02]\n",
      " [-1.98346491e-02]\n",
      " [-2.41801992e-02]\n",
      " [-2.89449307e-02]\n",
      " [-3.41149058e-02]\n",
      " [-3.96703000e-02]\n",
      " [-4.55854020e-02]\n",
      " [-5.18286785e-02]\n",
      " [-5.83629038e-02]\n",
      " [-6.51453518e-02]\n",
      " [-7.21280480e-02]\n",
      " [-7.92580804e-02]\n",
      " [-8.64779641e-02]\n",
      " [-9.37260553e-02]\n",
      " [-1.00937013e-01]\n",
      " [-1.08042297e-01]\n",
      " [-1.14970707e-01]\n",
      " [-1.21648947e-01]\n",
      " [-1.28002213e-01]\n",
      " [-1.33954795e-01]\n",
      " [-1.39430703e-01]\n",
      " [-1.44354278e-01]\n",
      " [-1.48650818e-01]\n",
      " [-1.52247187e-01]\n",
      " [-1.55072419e-01]\n",
      " [-1.57058294e-01]\n",
      " [-1.58139897e-01]\n",
      " [-1.58256151e-01]\n",
      " [-1.57350307e-01]\n",
      " [-1.55370412e-01]\n",
      " [-1.52269730e-01]\n",
      " [-1.48007118e-01]\n",
      " [-1.42547372e-01]\n",
      " [-1.35861509e-01]\n",
      " [-1.27927023e-01]\n",
      " [-1.18728080e-01]\n",
      " [-1.08255673e-01]\n",
      " [-9.65077341e-02]\n",
      " [-8.34891964e-02]\n",
      " [-6.92120197e-02]\n",
      " [-5.36951721e-02]\n",
      " [-3.69645744e-02]\n",
      " [-1.90530098e-02]\n",
      " [-2.94209102e-15]\n",
      " [ 2.01483469e-02]\n",
      " [ 4.13395160e-02]\n",
      " [ 6.35147869e-02]\n",
      " [ 8.66094557e-02]\n",
      " [ 1.10553072e-01]\n",
      " [ 1.35269691e-01]\n",
      " [ 1.60678130e-01]\n",
      " [ 1.86692240e-01]\n",
      " [ 2.13221173e-01]\n",
      " [ 2.40169651e-01]]\n"
     ]
    }
   ],
   "source": [
    "e_i2 = f - f_hat_i2\n",
    "print(e_i2)"
   ]
  },
  {
   "cell_type": "code",
   "execution_count": 131,
   "id": "d10f5ca3-371c-4130-9330-8d6d0f9f51aa",
   "metadata": {
    "tags": []
   },
   "outputs": [
    {
     "name": "stdout",
     "output_type": "stream",
     "text": [
      "[125.77337421]\n"
     ]
    }
   ],
   "source": [
    "# Calculate the euclidean inner product\n",
    "inprod = np.dot(e_i2.T, f_hat_i2)\n",
    "\n",
    "# Convert the inner product to an angle in degrees\n",
    "inprod_deg2 = np.degrees(np.arccos(inprod / (np.linalg.norm(e_i2) * np.linalg.norm(f_hat_i2))))\n",
    "\n",
    "\n",
    "print(inprod_deg2.flatten())"
   ]
  },
  {
   "cell_type": "markdown",
   "id": "a35176fa-a342-44e8-bc77-43e0a4c5f21b",
   "metadata": {},
   "source": [
    "<div style=\"border:solid; margin: auto; text-align: center; padding: 1em\">\n",
    "$\\alpha_{1} \\approx 125 \\text{ degrees}$\n",
    "</div>"
   ]
  },
  {
   "cell_type": "markdown",
   "id": "b90b68e1-1050-49cc-a4fa-a8551b06d55e",
   "metadata": {},
   "source": [
    "4\\. Consider the indices $\\mathbf{p}_{r} = \\big[1 \\; 100 \\; 17 \\; 84 \\; 50 \\; 58\\big]$.  Note that $\\mathbf{p}_{r}$ contains all $\\mathbf{p}_{i_{1}}$ indices as well as an extra index of 58.  use these indices to build a regression projector $\\mathcal{P}_{r}$ and regress $\\mathbf{f}$ onto $\\mathbf{U}$ using $\\mathcal{P}_{r}$.  Denote the regressed function with $\\mathbf{\\hat{f}}_{r}$. Compute the projection error $\\mathbf{e}_{r} = \\mathbf{f} - \\mathbf{\\hat{f}}_{r}$. What is the angle between $\\mathbf{e}_r$ and $\\mathbf{\\hat{f}}_{r}$?  Denote the angle (in degree) with $\\alpha_{r}$."
   ]
  },
  {
   "cell_type": "markdown",
   "id": "8bc7796a-5faf-43d1-af14-0fe15deda889",
   "metadata": {},
   "source": [
    "$ \\mathcal{P}_r = \\mathbf{U} \\big( \\mathbf{P}^{T} \\mathbf{U} \\big)^{\\dagger} \\mathbf{P}^{T}$\n",
    "\n",
    "$\\mathbf{\\hat{f}}_{r} = \\mathcal{P}_{r} \\mathbf{f}$"
   ]
  },
  {
   "cell_type": "code",
   "execution_count": 136,
   "id": "0d795ee7-3443-40a7-9119-b47176ee4859",
   "metadata": {
    "tags": []
   },
   "outputs": [],
   "source": [
    "# Python to do the computation\n",
    "# Import necessary moduels and libraries\n",
    "import numpy as np\n",
    "\n",
    "# Define the value of n\n",
    "n = 100\n",
    "\n",
    "# Create the range [-1, 1]\n",
    "x = np.linspace(-1, 1, n).reshape(-1, 1)  # Reshape to make it a column vector\n",
    "\n",
    "# Create the vector f\n",
    "f = np.exp(-2 * x**2)\n",
    "\n",
    "# Create the matrix U\n",
    "U = np.column_stack([np.ones((n, 1)), x, x**2, x**3, x**4])\n",
    "\n",
    "# Define the integer index vector p_r\n",
    "p_r = np.array([1, 100, 17, 84, 50, 58])\n",
    "\n",
    "# Define the size of the matrix\n",
    "matrix_size = (100, 6)  # Correct size for P_r\n",
    "\n",
    "# Create an empty matrix filled with zeros\n",
    "P_r = np.zeros(matrix_size)\n",
    "\n",
    "# Set the elements at the specified indices to 1\n",
    "P_r[p_r - 1, np.arange(6)] = 1  # Subtract 1 to account for 0-based indexing\n",
    "\n",
    "# Calculate the projection matrix scriptP_r\n",
    "scriptP_r = np.dot(U, np.dot(np.linalg.pinv(np.dot(P_r.T, U)), P_r.T))\n",
    "\n",
    "# Calculate f_hat_r\n",
    "f_hat_r = np.dot(scriptP_r, f)"
   ]
  },
  {
   "cell_type": "markdown",
   "id": "df8f3596-a830-42e6-b84e-c9b88887c332",
   "metadata": {},
   "source": [
    "#### Compute the projection error\n",
    "\n",
    "Unhide the code block output below to see the output."
   ]
  },
  {
   "cell_type": "code",
   "execution_count": 138,
   "id": "3a31a860-c9cd-48cf-b1cb-1bbe5cdf1550",
   "metadata": {
    "collapsed": true,
    "jupyter": {
     "outputs_hidden": true
    },
    "tags": []
   },
   "outputs": [
    {
     "name": "stdout",
     "output_type": "stream",
     "text": [
      "[[ 0.0001859 ]\n",
      " [ 0.00819799]\n",
      " [ 0.01443153]\n",
      " [ 0.01905761]\n",
      " [ 0.02224172]\n",
      " [ 0.02414348]\n",
      " [ 0.02491637]\n",
      " [ 0.02470749]\n",
      " [ 0.02365724]\n",
      " [ 0.02189912]\n",
      " [ 0.01955949]\n",
      " [ 0.01675733]\n",
      " [ 0.01360402]\n",
      " [ 0.01020322]\n",
      " [ 0.00665066]\n",
      " [ 0.00303405]\n",
      " [-0.00056703]\n",
      " [-0.00408117]\n",
      " [-0.00744515]\n",
      " [-0.01060395]\n",
      " [-0.01351061]\n",
      " [-0.01612621]\n",
      " [-0.01841965]\n",
      " [-0.02036747]\n",
      " [-0.02195362]\n",
      " [-0.02316914]\n",
      " [-0.02401183]\n",
      " [-0.0244859 ]\n",
      " [-0.02460149]\n",
      " [-0.02437427]\n",
      " [-0.02382489]\n",
      " [-0.0229785 ]\n",
      " [-0.02186414]\n",
      " [-0.02051421]\n",
      " [-0.01896382]\n",
      " [-0.01725022]\n",
      " [-0.01541218]\n",
      " [-0.01348932]\n",
      " [-0.01152155]\n",
      " [-0.00954842]\n",
      " [-0.00760858]\n",
      " [-0.00573917]\n",
      " [-0.0039753 ]\n",
      " [-0.00234956]\n",
      " [-0.00089155]\n",
      " [ 0.00037256]\n",
      " [ 0.00142032]\n",
      " [ 0.00223341]\n",
      " [ 0.00279781]\n",
      " [ 0.00310403]\n",
      " [ 0.00314724]\n",
      " [ 0.00292731]\n",
      " [ 0.00244886]\n",
      " [ 0.00172114]\n",
      " [ 0.00075792]\n",
      " [-0.00042268]\n",
      " [-0.00179848]\n",
      " [-0.00334352]\n",
      " [-0.00502843]\n",
      " [-0.00682086]\n",
      " [-0.00868594]\n",
      " [-0.01058675]\n",
      " [-0.01248489]\n",
      " [-0.01434103]\n",
      " [-0.0161155 ]\n",
      " [-0.0177689 ]\n",
      " [-0.01926271]\n",
      " [-0.0205599 ]\n",
      " [-0.0216256 ]\n",
      " [-0.02242765]\n",
      " [-0.02293722]\n",
      " [-0.02312942]\n",
      " [-0.02298381]\n",
      " [-0.02248497]\n",
      " [-0.02162299]\n",
      " [-0.02039389]\n",
      " [-0.0188001 ]\n",
      " [-0.01685081]\n",
      " [-0.01456232]\n",
      " [-0.0119583 ]\n",
      " [-0.0090701 ]\n",
      " [-0.00593687]\n",
      " [-0.00260579]\n",
      " [ 0.00086786]\n",
      " [ 0.00442065]\n",
      " [ 0.00798092]\n",
      " [ 0.01146888]\n",
      " [ 0.01479657]\n",
      " [ 0.01786802]\n",
      " [ 0.02057936]\n",
      " [ 0.02281896]\n",
      " [ 0.02446761]\n",
      " [ 0.02539872]\n",
      " [ 0.02547856]\n",
      " [ 0.02456648]\n",
      " [ 0.02251517]\n",
      " [ 0.0191709 ]\n",
      " [ 0.01437382]\n",
      " [ 0.00795822]\n",
      " [-0.00024724]]\n"
     ]
    }
   ],
   "source": [
    "e_r = f - f_hat_r\n",
    "print(e_r)"
   ]
  },
  {
   "cell_type": "code",
   "execution_count": 139,
   "id": "dc57474f-eb8b-4fc9-810b-408ba004bd09",
   "metadata": {
    "tags": []
   },
   "outputs": [
    {
     "name": "stdout",
     "output_type": "stream",
     "text": [
      "[115.50795909]\n"
     ]
    }
   ],
   "source": [
    "# Calculate the euclidean inner product\n",
    "inprod = np.dot(e_r.T, f_hat_r)\n",
    "\n",
    "# Convert the inner product to an angle in degrees\n",
    "inprod_deg3 = np.degrees(np.arccos(inprod / (np.linalg.norm(e_r) * np.linalg.norm(f_hat_r))))\n",
    "\n",
    "\n",
    "print(inprod_deg3.flatten())"
   ]
  },
  {
   "cell_type": "markdown",
   "id": "585d8332-ffbf-4de0-874e-f26f8771dbdc",
   "metadata": {},
   "source": [
    "<div style=\"border:solid; margin: auto; text-align: center; padding: 1em\">\n",
    "$\\alpha_{r} \\approx 115 \\text{ degrees}$\n",
    "</div>"
   ]
  },
  {
   "cell_type": "markdown",
   "id": "568a5870-400a-40bc-a550-c85a9fe510d3",
   "metadata": {},
   "source": [
    "5\\. Plot $\\mathbf{f}$ and $\\mathbf{\\hat{f}}_{o}, \\mathbf{\\hat{f}}_{i_{1}}, \\mathbf{\\hat{f}}_{i_{2}}, \\text{ and } \\mathbf{\\hat{f}}_{r}$ vs. x"
   ]
  },
  {
   "cell_type": "code",
   "execution_count": 140,
   "id": "6d881c1b-4143-4e15-9905-bfc4ff357ca2",
   "metadata": {
    "tags": []
   },
   "outputs": [
    {
     "data": {
      "image/png": "[encoded data removed]",
      "text/plain": [
       "<Figure size 1000x600 with 1 Axes>"
      ]
     },
     "metadata": {},
     "output_type": "display_data"
    }
   ],
   "source": [
    "import numpy as np\n",
    "import matplotlib.pyplot as plt\n",
    "\n",
    "n = 100\n",
    "x = np.linspace(-1, 1, n).reshape(-1, 1)\n",
    "\n",
    "# Create the plot\n",
    "plt.figure(figsize=(10, 6))\n",
    "plt.plot(x, f, label='f', linestyle='-', marker='o')\n",
    "plt.plot(x, f_hat_o, label='f_hat_o', linestyle='-', marker='o')\n",
    "plt.plot(x, f_hat_i1, label='f_hat_i1', linestyle='-', marker='o')\n",
    "plt.plot(x, f_hat_i2, label='f_hat_i2', linestyle='-', marker='o')\n",
    "plt.plot(x, f_hat_r, label='f_hat_r', linestyle='-', marker='o')\n",
    "\n",
    "# Set plot labels and title\n",
    "plt.xlabel('x')\n",
    "plt.ylabel('Values')\n",
    "plt.title('Plot of f and f_hat_i1, f_hat_i2, f_hat_o, f_hat_r vs. x')\n",
    "\n",
    "# Add a legend\n",
    "plt.legend()\n",
    "\n",
    "# Show the plot\n",
    "plt.grid(True)\n",
    "plt.show()\n"
   ]
  },
  {
   "cell_type": "markdown",
   "id": "e49ab1e3-b89c-46d3-91d7-57f1d692be8b",
   "metadata": {},
   "source": [
    "6\\. Plot the norm of the error of each of the above four parts versus the angle.  To this end, first sort the angle from smallest to largest.  What conclusion can youd raw from this figure?"
   ]
  },
  {
   "cell_type": "code",
   "execution_count": 141,
   "id": "95781f0b-fafb-4d0e-a179-10c8bba11b0b",
   "metadata": {
    "tags": []
   },
   "outputs": [
    {
     "data": {
      "image/png": "[encoded data removed]",
      "text/plain": [
       "<Figure size 1000x600 with 1 Axes>"
      ]
     },
     "metadata": {},
     "output_type": "display_data"
    }
   ],
   "source": [
    "import numpy as np\n",
    "import matplotlib.pyplot as plt\n",
    "\n",
    "\n",
    "# angles\n",
    "angles = [0, 125, 125, 115]\n",
    "\n",
    "# error_norms\n",
    "norm_e_o = np.linalg.norm(e_o)\n",
    "norm_e_i1 = np.linalg.norm(e_i1)\n",
    "norm_e_i2 = np.linalg.norm(e_i2)\n",
    "norm_e_r = np.linalg.norm(e_r)\n",
    "\n",
    "error_norms = [norm_e_o, norm_e_i1, norm_e_i2, norm_e_r]\n",
    "\n",
    "# Sort the angles and error norms together\n",
    "sorted_data = sorted(zip(angles, error_norms), key=lambda x: x[0])\n",
    "sorted_angles, sorted_error_norms = zip(*sorted_data)\n",
    "\n",
    "# Create the plot\n",
    "plt.figure(figsize=(10, 6))\n",
    "plt.plot(sorted_angles, sorted_error_norms, label='Error Norm', linestyle='-', marker='o')\n",
    "\n",
    "# Set plot labels and title\n",
    "plt.xlabel('Angle (degrees)')\n",
    "plt.ylabel('Error Norm')\n",
    "plt.title('Norm of Error vs. Angle')\n",
    "\n",
    "# Add a legend\n",
    "plt.legend()\n",
    "\n",
    "# Show the plot\n",
    "plt.grid(True)\n",
    "plt.show()\n"
   ]
  },
  {
   "cell_type": "markdown",
   "id": "952cc299-e19b-4ff1-b51c-29b248d9ca09",
   "metadata": {},
   "source": [
    "<div style=\"border:solid; margin: auto; text-align: center; padding: 1em\">\n",
    "Regression is more robust than interpolation.\n",
    "</div>"
   ]
  }
 ],
 "metadata": {
  "kernelspec": {
   "display_name": "Python 3 (ipykernel)",
   "language": "python",
   "name": "python3"
  },
  "language_info": {
   "codemirror_mode": {
    "name": "ipython",
    "version": 3
   },
   "file_extension": ".py",
   "mimetype": "text/x-python",
   "name": "python",
   "nbconvert_exporter": "python",
   "pygments_lexer": "ipython3",
   "version": "3.11.7"
  }
 },
 "nbformat": 4,
 "nbformat_minor": 5
}
